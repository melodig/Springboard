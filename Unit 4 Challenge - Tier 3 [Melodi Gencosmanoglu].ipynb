{
 "cells": [
  {
   "cell_type": "markdown",
   "metadata": {
    "colab_type": "text",
    "id": "Tia3MP1SJpgj"
   },
   "source": [
    "# Springboard Data Science Career Track Unit 4 Challenge - Tier 3 Complete\n",
    "\n",
    "## Objectives\n",
    "Hey! Great job getting through those challenging DataCamp courses. You're learning a lot in a short span of time. \n",
    "\n",
    "In this notebook, you're going to apply the skills you've been learning, bridging the gap between the controlled environment of DataCamp and the *slightly* messier work that data scientists do with actual datasets!\n",
    "\n",
    "Here’s the mystery we’re going to solve: ***which boroughs of London have seen the greatest increase in housing prices, on average, over the last two decades?***\n",
    "\n",
    "\n",
    "A borough is just a fancy word for district. You may be familiar with the five boroughs of New York… well, there are 32 boroughs within Greater London [(here's some info for the curious)](https://en.wikipedia.org/wiki/London_boroughs). Some of them are more desirable areas to live in, and the data will reflect that with a greater rise in housing prices.\n",
    "\n",
    "***This is the Tier 3 notebook, which means it's not filled in at all: we'll just give you the skeleton of a project, the brief and the data. It's up to you to play around with it and see what you can find out! Good luck! If you struggle, feel free to look at easier tiers for help; but try to dip in and out of them, as the more independent work you do, the better it is for your learning!***\n",
    "\n",
    "This challenge will make use of only what you learned in the following DataCamp courses: \n",
    "- Prework courses (Introduction to Python for Data Science, Intermediate Python for Data Science)\n",
    "- Data Types for Data Science\n",
    "- Python Data Science Toolbox (Part One) \n",
    "- pandas Foundations\n",
    "- Manipulating DataFrames with pandas\n",
    "- Merging DataFrames with pandas\n",
    "\n",
    "Of the tools, techniques and concepts in the above DataCamp courses, this challenge should require the application of the following: \n",
    "- **pandas**\n",
    "    - **data ingestion and inspection** (pandas Foundations, Module One) \n",
    "    - **exploratory data analysis** (pandas Foundations, Module Two)\n",
    "    - **tidying and cleaning** (Manipulating DataFrames with pandas, Module Three) \n",
    "    - **transforming DataFrames** (Manipulating DataFrames with pandas, Module One)\n",
    "    - **subsetting DataFrames with lists** (Manipulating DataFrames with pandas, Module One) \n",
    "    - **filtering DataFrames** (Manipulating DataFrames with pandas, Module One) \n",
    "    - **grouping data** (Manipulating DataFrames with pandas, Module Four) \n",
    "    - **melting data** (Manipulating DataFrames with pandas, Module Three) \n",
    "    - **advanced indexing** (Manipulating DataFrames with pandas, Module Four) \n",
    "- **matplotlib** (Intermediate Python for Data Science, Module One)\n",
    "- **fundamental data types** (Data Types for Data Science, Module One) \n",
    "- **dictionaries** (Intermediate Python for Data Science, Module Two)\n",
    "- **handling dates and times** (Data Types for Data Science, Module Four)\n",
    "- **function definition** (Python Data Science Toolbox - Part One, Module One)\n",
    "- **default arguments, variable length, and scope** (Python Data Science Toolbox - Part One, Module Two) \n",
    "- **lambda functions and error handling** (Python Data Science Toolbox - Part One, Module Four) "
   ]
  },
  {
   "cell_type": "markdown",
   "metadata": {
    "colab_type": "text",
    "id": "Ipgd2nV8Jpgl"
   },
   "source": [
    "## The Data Science Pipeline\n",
    "\n",
    "This is Tier Three, so we'll get you started. But after that, it's all in your hands! When you feel done with your investigations, look back over what you've accomplished, and prepare a quick presentation of your findings for the next mentor meeting. \n",
    "\n",
    "Data Science is magical. In this case study, you'll get to apply some complex machine learning algorithms. But as  [David Spiegelhalter](https://www.youtube.com/watch?v=oUs1uvsz0Ok) reminds us, there is no substitute for simply **taking a really, really good look at the data.** Sometimes, this is all we need to answer our question.\n",
    "\n",
    "Data Science projects generally adhere to the four stages of Data Science Pipeline:\n",
    "1. Sourcing and loading \n",
    "2. Cleaning, transforming, and visualizing \n",
    "3. Modeling \n",
    "4. Evaluating and concluding \n"
   ]
  },
  {
   "cell_type": "markdown",
   "metadata": {
    "colab_type": "text",
    "id": "zswDqbefJpgm"
   },
   "source": [
    "### 1. Sourcing and Loading \n",
    "\n",
    "Any Data Science project kicks off by importing  ***pandas***. The documentation of this wonderful library can be found [here](https://pandas.pydata.org/). As you've seen, pandas is conveniently connected to the [Numpy](http://www.numpy.org/) and [Matplotlib](https://matplotlib.org/) libraries. \n",
    "\n",
    "***Hint:*** This part of the data science pipeline will test those skills you acquired in the pandas Foundations course, Module One. "
   ]
  },
  {
   "cell_type": "markdown",
   "metadata": {
    "colab_type": "text",
    "id": "aEau5nEvJpgm"
   },
   "source": [
    "#### 1.1. Importing Libraries"
   ]
  },
  {
   "cell_type": "code",
   "execution_count": 1,
   "metadata": {
    "colab": {},
    "colab_type": "code",
    "id": "7Bt_Q_oPJpgn"
   },
   "outputs": [],
   "source": [
    "# Let's import the pandas, numpy libraries as pd, and np respectively. \n",
    "import pandas as pd\n",
    "import numpy as np\n",
    "# Load the pyplot collection of functions from matplotlib, as plt \n",
    "from matplotlib import pyplot as plt"
   ]
  },
  {
   "cell_type": "markdown",
   "metadata": {
    "colab_type": "text",
    "id": "koUrawxsJpgq"
   },
   "source": [
    "#### 1.2.  Loading the data\n",
    "Your data comes from the [London Datastore](https://data.london.gov.uk/): a free, open-source data-sharing portal for London-oriented datasets. "
   ]
  },
  {
   "cell_type": "code",
   "execution_count": 2,
   "metadata": {
    "colab": {},
    "colab_type": "code",
    "id": "AiLiD4v3Jpgr"
   },
   "outputs": [],
   "source": [
    "# First, make a variable called url_LondonHousePrices, and assign it the following link, enclosed in quotation-marks as a string:\n",
    "# https://data.london.gov.uk/download/uk-house-price-index/70ac0766-8902-4eb5-aab5-01951aaed773/UK%20House%20price%20index.xls\n",
    "\n",
    "url_LondonHousePrices = \"https://data.london.gov.uk/download/uk-house-price-index/70ac0766-8902-4eb5-aab5-01951aaed773/UK%20House%20price%20index.xls\"\n",
    "\n",
    "# The dataset we're interested in contains the Average prices of the houses, and is actually on a particular sheet of the Excel file. \n",
    "# As a result, we need to specify the sheet name in the read_excel() method.\n",
    "# Put this data into a variable called properties.  \n",
    "properties = pd.read_excel(url_LondonHousePrices, sheet_name='Average price', index_col= None)"
   ]
  },
  {
   "cell_type": "markdown",
   "metadata": {
    "colab_type": "text",
    "id": "POukEJXgJpgu"
   },
   "source": [
    "### 2. Cleaning, transforming, and visualizing\n",
    "This second stage is arguably the most important part of any Data Science project. The first thing to do is take a proper look at the data. Cleaning forms the majority of this stage, and can be done both before or after Transformation.\n",
    "\n",
    "The end goal of data cleaning is to have tidy data. When data is tidy: \n",
    "\n",
    "1. Each variable has a column.\n",
    "2. Each observation forms a row.\n",
    "\n",
    "Keep the end goal in mind as you move through this process, every step will take you closer. \n",
    "\n",
    "\n",
    "\n",
    "***Hint:*** This part of the data science pipeline should test those skills you acquired in: \n",
    "- Intermediate Python for data science, all modules.\n",
    "- pandas Foundations, all modules. \n",
    "- Manipulating DataFrames with pandas, all modules.\n",
    "- Data Types for Data Science, Module Four.\n",
    "- Python Data Science Toolbox - Part One, all modules"
   ]
  },
  {
   "cell_type": "markdown",
   "metadata": {
    "colab_type": "text",
    "id": "Te0Q548tnzZa"
   },
   "source": [
    "**2.1. Exploring your data** \n",
    "\n",
    "Think about your pandas functions for checking out a dataframe. "
   ]
  },
  {
   "cell_type": "code",
   "execution_count": 3,
   "metadata": {
    "colab": {},
    "colab_type": "code",
    "id": "Rxirxw_qoAJa"
   },
   "outputs": [
    {
     "name": "stdout",
     "output_type": "stream",
     "text": [
      "<class 'pandas.core.frame.DataFrame'>\n",
      "RangeIndex: 331 entries, 0 to 330\n",
      "Data columns (total 49 columns):\n",
      " #   Column                Non-Null Count  Dtype         \n",
      "---  ------                --------------  -----         \n",
      " 0   Unnamed: 0            330 non-null    datetime64[ns]\n",
      " 1   City of London        331 non-null    object        \n",
      " 2   Barking & Dagenham    331 non-null    object        \n",
      " 3   Barnet                331 non-null    object        \n",
      " 4   Bexley                331 non-null    object        \n",
      " 5   Brent                 331 non-null    object        \n",
      " 6   Bromley               331 non-null    object        \n",
      " 7   Camden                331 non-null    object        \n",
      " 8   Croydon               331 non-null    object        \n",
      " 9   Ealing                331 non-null    object        \n",
      " 10  Enfield               331 non-null    object        \n",
      " 11  Greenwich             331 non-null    object        \n",
      " 12  Hackney               331 non-null    object        \n",
      " 13  Hammersmith & Fulham  331 non-null    object        \n",
      " 14  Haringey              331 non-null    object        \n",
      " 15  Harrow                331 non-null    object        \n",
      " 16  Havering              331 non-null    object        \n",
      " 17  Hillingdon            331 non-null    object        \n",
      " 18  Hounslow              331 non-null    object        \n",
      " 19  Islington             331 non-null    object        \n",
      " 20  Kensington & Chelsea  331 non-null    object        \n",
      " 21  Kingston upon Thames  331 non-null    object        \n",
      " 22  Lambeth               331 non-null    object        \n",
      " 23  Lewisham              331 non-null    object        \n",
      " 24  Merton                331 non-null    object        \n",
      " 25  Newham                331 non-null    object        \n",
      " 26  Redbridge             331 non-null    object        \n",
      " 27  Richmond upon Thames  331 non-null    object        \n",
      " 28  Southwark             331 non-null    object        \n",
      " 29  Sutton                331 non-null    object        \n",
      " 30  Tower Hamlets         331 non-null    object        \n",
      " 31  Waltham Forest        331 non-null    object        \n",
      " 32  Wandsworth            331 non-null    object        \n",
      " 33  Westminster           331 non-null    object        \n",
      " 34  Unnamed: 34           0 non-null      float64       \n",
      " 35  Inner London          331 non-null    object        \n",
      " 36  Outer London          331 non-null    object        \n",
      " 37  Unnamed: 37           0 non-null      float64       \n",
      " 38  NORTH EAST            331 non-null    object        \n",
      " 39  NORTH WEST            331 non-null    object        \n",
      " 40  YORKS & THE HUMBER    331 non-null    object        \n",
      " 41  EAST MIDLANDS         331 non-null    object        \n",
      " 42  WEST MIDLANDS         331 non-null    object        \n",
      " 43  EAST OF ENGLAND       331 non-null    object        \n",
      " 44  LONDON                331 non-null    object        \n",
      " 45  SOUTH EAST            331 non-null    object        \n",
      " 46  SOUTH WEST            331 non-null    object        \n",
      " 47  Unnamed: 47           0 non-null      float64       \n",
      " 48  England               331 non-null    object        \n",
      "dtypes: datetime64[ns](1), float64(3), object(45)\n",
      "memory usage: 126.8+ KB\n"
     ]
    },
    {
     "data": {
      "text/html": [
       "<div>\n",
       "<style scoped>\n",
       "    .dataframe tbody tr th:only-of-type {\n",
       "        vertical-align: middle;\n",
       "    }\n",
       "\n",
       "    .dataframe tbody tr th {\n",
       "        vertical-align: top;\n",
       "    }\n",
       "\n",
       "    .dataframe thead th {\n",
       "        text-align: right;\n",
       "    }\n",
       "</style>\n",
       "<table border=\"1\" class=\"dataframe\">\n",
       "  <thead>\n",
       "    <tr style=\"text-align: right;\">\n",
       "      <th></th>\n",
       "      <th>Unnamed: 0</th>\n",
       "      <th>City of London</th>\n",
       "      <th>Barking &amp; Dagenham</th>\n",
       "      <th>Barnet</th>\n",
       "      <th>Bexley</th>\n",
       "      <th>Brent</th>\n",
       "      <th>Bromley</th>\n",
       "      <th>Camden</th>\n",
       "      <th>Croydon</th>\n",
       "      <th>Ealing</th>\n",
       "      <th>...</th>\n",
       "      <th>NORTH WEST</th>\n",
       "      <th>YORKS &amp; THE HUMBER</th>\n",
       "      <th>EAST MIDLANDS</th>\n",
       "      <th>WEST MIDLANDS</th>\n",
       "      <th>EAST OF ENGLAND</th>\n",
       "      <th>LONDON</th>\n",
       "      <th>SOUTH EAST</th>\n",
       "      <th>SOUTH WEST</th>\n",
       "      <th>Unnamed: 47</th>\n",
       "      <th>England</th>\n",
       "    </tr>\n",
       "  </thead>\n",
       "  <tbody>\n",
       "    <tr>\n",
       "      <th>0</th>\n",
       "      <td>NaT</td>\n",
       "      <td>E09000001</td>\n",
       "      <td>E09000002</td>\n",
       "      <td>E09000003</td>\n",
       "      <td>E09000004</td>\n",
       "      <td>E09000005</td>\n",
       "      <td>E09000006</td>\n",
       "      <td>E09000007</td>\n",
       "      <td>E09000008</td>\n",
       "      <td>E09000009</td>\n",
       "      <td>...</td>\n",
       "      <td>E12000002</td>\n",
       "      <td>E12000003</td>\n",
       "      <td>E12000004</td>\n",
       "      <td>E12000005</td>\n",
       "      <td>E12000006</td>\n",
       "      <td>E12000007</td>\n",
       "      <td>E12000008</td>\n",
       "      <td>E12000009</td>\n",
       "      <td>NaN</td>\n",
       "      <td>E92000001</td>\n",
       "    </tr>\n",
       "    <tr>\n",
       "      <th>1</th>\n",
       "      <td>1995-01-01</td>\n",
       "      <td>91449</td>\n",
       "      <td>50460.2</td>\n",
       "      <td>93284.5</td>\n",
       "      <td>64958.1</td>\n",
       "      <td>71306.6</td>\n",
       "      <td>81671.5</td>\n",
       "      <td>120933</td>\n",
       "      <td>69158.2</td>\n",
       "      <td>79885.9</td>\n",
       "      <td>...</td>\n",
       "      <td>43958.5</td>\n",
       "      <td>44803.4</td>\n",
       "      <td>45544.5</td>\n",
       "      <td>48527.5</td>\n",
       "      <td>56701.6</td>\n",
       "      <td>74435.8</td>\n",
       "      <td>64018.9</td>\n",
       "      <td>54705.2</td>\n",
       "      <td>NaN</td>\n",
       "      <td>53202.8</td>\n",
       "    </tr>\n",
       "    <tr>\n",
       "      <th>2</th>\n",
       "      <td>1995-02-01</td>\n",
       "      <td>82202.8</td>\n",
       "      <td>51085.8</td>\n",
       "      <td>93190.2</td>\n",
       "      <td>64787.9</td>\n",
       "      <td>72022.3</td>\n",
       "      <td>81657.6</td>\n",
       "      <td>119509</td>\n",
       "      <td>68951.1</td>\n",
       "      <td>80897.1</td>\n",
       "      <td>...</td>\n",
       "      <td>43925.4</td>\n",
       "      <td>44528.8</td>\n",
       "      <td>46051.6</td>\n",
       "      <td>49341.3</td>\n",
       "      <td>56593.6</td>\n",
       "      <td>72777.9</td>\n",
       "      <td>63715</td>\n",
       "      <td>54356.1</td>\n",
       "      <td>NaN</td>\n",
       "      <td>53096.2</td>\n",
       "    </tr>\n",
       "    <tr>\n",
       "      <th>3</th>\n",
       "      <td>1995-03-01</td>\n",
       "      <td>79120.7</td>\n",
       "      <td>51269</td>\n",
       "      <td>92247.5</td>\n",
       "      <td>64367.5</td>\n",
       "      <td>72015.8</td>\n",
       "      <td>81449.3</td>\n",
       "      <td>120282</td>\n",
       "      <td>68712.4</td>\n",
       "      <td>81379.9</td>\n",
       "      <td>...</td>\n",
       "      <td>44434.9</td>\n",
       "      <td>45200.5</td>\n",
       "      <td>45383.8</td>\n",
       "      <td>49442.2</td>\n",
       "      <td>56171.2</td>\n",
       "      <td>73896.8</td>\n",
       "      <td>64113.6</td>\n",
       "      <td>53583.1</td>\n",
       "      <td>NaN</td>\n",
       "      <td>53201.3</td>\n",
       "    </tr>\n",
       "    <tr>\n",
       "      <th>4</th>\n",
       "      <td>1995-04-01</td>\n",
       "      <td>77101.2</td>\n",
       "      <td>53133.5</td>\n",
       "      <td>90762.9</td>\n",
       "      <td>64277.7</td>\n",
       "      <td>72965.6</td>\n",
       "      <td>81124.4</td>\n",
       "      <td>120098</td>\n",
       "      <td>68610</td>\n",
       "      <td>82188.9</td>\n",
       "      <td>...</td>\n",
       "      <td>44267.8</td>\n",
       "      <td>45614.3</td>\n",
       "      <td>46124.2</td>\n",
       "      <td>49455.9</td>\n",
       "      <td>56567.9</td>\n",
       "      <td>74455.3</td>\n",
       "      <td>64623.2</td>\n",
       "      <td>54786</td>\n",
       "      <td>NaN</td>\n",
       "      <td>53590.9</td>\n",
       "    </tr>\n",
       "  </tbody>\n",
       "</table>\n",
       "<p>5 rows × 49 columns</p>\n",
       "</div>"
      ],
      "text/plain": [
       "  Unnamed: 0 City of London Barking & Dagenham     Barnet     Bexley  \\\n",
       "0        NaT      E09000001          E09000002  E09000003  E09000004   \n",
       "1 1995-01-01          91449            50460.2    93284.5    64958.1   \n",
       "2 1995-02-01        82202.8            51085.8    93190.2    64787.9   \n",
       "3 1995-03-01        79120.7              51269    92247.5    64367.5   \n",
       "4 1995-04-01        77101.2            53133.5    90762.9    64277.7   \n",
       "\n",
       "       Brent    Bromley     Camden    Croydon     Ealing  ... NORTH WEST  \\\n",
       "0  E09000005  E09000006  E09000007  E09000008  E09000009  ...  E12000002   \n",
       "1    71306.6    81671.5     120933    69158.2    79885.9  ...    43958.5   \n",
       "2    72022.3    81657.6     119509    68951.1    80897.1  ...    43925.4   \n",
       "3    72015.8    81449.3     120282    68712.4    81379.9  ...    44434.9   \n",
       "4    72965.6    81124.4     120098      68610    82188.9  ...    44267.8   \n",
       "\n",
       "  YORKS & THE HUMBER EAST MIDLANDS WEST MIDLANDS EAST OF ENGLAND     LONDON  \\\n",
       "0          E12000003     E12000004     E12000005       E12000006  E12000007   \n",
       "1            44803.4       45544.5       48527.5         56701.6    74435.8   \n",
       "2            44528.8       46051.6       49341.3         56593.6    72777.9   \n",
       "3            45200.5       45383.8       49442.2         56171.2    73896.8   \n",
       "4            45614.3       46124.2       49455.9         56567.9    74455.3   \n",
       "\n",
       "  SOUTH EAST SOUTH WEST Unnamed: 47    England  \n",
       "0  E12000008  E12000009         NaN  E92000001  \n",
       "1    64018.9    54705.2         NaN    53202.8  \n",
       "2      63715    54356.1         NaN    53096.2  \n",
       "3    64113.6    53583.1         NaN    53201.3  \n",
       "4    64623.2      54786         NaN    53590.9  \n",
       "\n",
       "[5 rows x 49 columns]"
      ]
     },
     "execution_count": 3,
     "metadata": {},
     "output_type": "execute_result"
    }
   ],
   "source": [
    "properties.info()\n",
    "properties.head()"
   ]
  },
  {
   "cell_type": "markdown",
   "metadata": {
    "colab_type": "text",
    "id": "tE9Sqt9-oAta"
   },
   "source": [
    "**2.2. Cleaning the data**\n",
    "\n",
    "You might find you need to transpose your dataframe, check out what its row indexes are, and reset the index. You  also might find you need to assign the values of the first row to your column headings  . (Hint: recall the .columns feature of DataFrames, as well as the iloc[] method).\n",
    "\n",
    "Don't be afraid to use StackOverflow for help  with this."
   ]
  },
  {
   "cell_type": "markdown",
   "metadata": {},
   "source": [
    "###### * Cleaning step i. -  Transposing"
   ]
  },
  {
   "cell_type": "code",
   "execution_count": 4,
   "metadata": {
    "colab": {},
    "colab_type": "code",
    "id": "cdAu1A3YoH_r",
    "scrolled": false
   },
   "outputs": [
    {
     "data": {
      "text/html": [
       "<div>\n",
       "<style scoped>\n",
       "    .dataframe tbody tr th:only-of-type {\n",
       "        vertical-align: middle;\n",
       "    }\n",
       "\n",
       "    .dataframe tbody tr th {\n",
       "        vertical-align: top;\n",
       "    }\n",
       "\n",
       "    .dataframe thead th {\n",
       "        text-align: right;\n",
       "    }\n",
       "</style>\n",
       "<table border=\"1\" class=\"dataframe\">\n",
       "  <thead>\n",
       "    <tr style=\"text-align: right;\">\n",
       "      <th></th>\n",
       "      <th>0</th>\n",
       "      <th>1</th>\n",
       "      <th>2</th>\n",
       "      <th>3</th>\n",
       "      <th>4</th>\n",
       "      <th>5</th>\n",
       "      <th>6</th>\n",
       "      <th>7</th>\n",
       "      <th>8</th>\n",
       "      <th>9</th>\n",
       "      <th>...</th>\n",
       "      <th>321</th>\n",
       "      <th>322</th>\n",
       "      <th>323</th>\n",
       "      <th>324</th>\n",
       "      <th>325</th>\n",
       "      <th>326</th>\n",
       "      <th>327</th>\n",
       "      <th>328</th>\n",
       "      <th>329</th>\n",
       "      <th>330</th>\n",
       "    </tr>\n",
       "  </thead>\n",
       "  <tbody>\n",
       "    <tr>\n",
       "      <th>Unnamed: 0</th>\n",
       "      <td>NaT</td>\n",
       "      <td>1995-01-01 00:00:00</td>\n",
       "      <td>1995-02-01 00:00:00</td>\n",
       "      <td>1995-03-01 00:00:00</td>\n",
       "      <td>1995-04-01 00:00:00</td>\n",
       "      <td>1995-05-01 00:00:00</td>\n",
       "      <td>1995-06-01 00:00:00</td>\n",
       "      <td>1995-07-01 00:00:00</td>\n",
       "      <td>1995-08-01 00:00:00</td>\n",
       "      <td>1995-09-01 00:00:00</td>\n",
       "      <td>...</td>\n",
       "      <td>2021-09-01 00:00:00</td>\n",
       "      <td>2021-10-01 00:00:00</td>\n",
       "      <td>2021-11-01 00:00:00</td>\n",
       "      <td>2021-12-01 00:00:00</td>\n",
       "      <td>2022-01-01 00:00:00</td>\n",
       "      <td>2022-02-01 00:00:00</td>\n",
       "      <td>2022-03-01 00:00:00</td>\n",
       "      <td>2022-04-01 00:00:00</td>\n",
       "      <td>2022-05-01 00:00:00</td>\n",
       "      <td>2022-06-01 00:00:00</td>\n",
       "    </tr>\n",
       "    <tr>\n",
       "      <th>City of London</th>\n",
       "      <td>E09000001</td>\n",
       "      <td>91449</td>\n",
       "      <td>82202.8</td>\n",
       "      <td>79120.7</td>\n",
       "      <td>77101.2</td>\n",
       "      <td>84409.1</td>\n",
       "      <td>94900.5</td>\n",
       "      <td>110128</td>\n",
       "      <td>112329</td>\n",
       "      <td>104473</td>\n",
       "      <td>...</td>\n",
       "      <td>954884</td>\n",
       "      <td>793389</td>\n",
       "      <td>799675</td>\n",
       "      <td>809376</td>\n",
       "      <td>796047</td>\n",
       "      <td>856301</td>\n",
       "      <td>820302</td>\n",
       "      <td>860938</td>\n",
       "      <td>802500</td>\n",
       "      <td>830376</td>\n",
       "    </tr>\n",
       "    <tr>\n",
       "      <th>Barking &amp; Dagenham</th>\n",
       "      <td>E09000002</td>\n",
       "      <td>50460.2</td>\n",
       "      <td>51085.8</td>\n",
       "      <td>51269</td>\n",
       "      <td>53133.5</td>\n",
       "      <td>53042.2</td>\n",
       "      <td>53700.3</td>\n",
       "      <td>52113.1</td>\n",
       "      <td>52232.2</td>\n",
       "      <td>51471.6</td>\n",
       "      <td>...</td>\n",
       "      <td>315039</td>\n",
       "      <td>326713</td>\n",
       "      <td>328531</td>\n",
       "      <td>330851</td>\n",
       "      <td>337557</td>\n",
       "      <td>341428</td>\n",
       "      <td>342723</td>\n",
       "      <td>339305</td>\n",
       "      <td>337715</td>\n",
       "      <td>342083</td>\n",
       "    </tr>\n",
       "    <tr>\n",
       "      <th>Barnet</th>\n",
       "      <td>E09000003</td>\n",
       "      <td>93284.5</td>\n",
       "      <td>93190.2</td>\n",
       "      <td>92247.5</td>\n",
       "      <td>90762.9</td>\n",
       "      <td>90258</td>\n",
       "      <td>90107.2</td>\n",
       "      <td>91441.2</td>\n",
       "      <td>92361.3</td>\n",
       "      <td>93273.1</td>\n",
       "      <td>...</td>\n",
       "      <td>554752</td>\n",
       "      <td>568918</td>\n",
       "      <td>572810</td>\n",
       "      <td>574877</td>\n",
       "      <td>581453</td>\n",
       "      <td>578243</td>\n",
       "      <td>582655</td>\n",
       "      <td>594131</td>\n",
       "      <td>600963</td>\n",
       "      <td>599287</td>\n",
       "    </tr>\n",
       "    <tr>\n",
       "      <th>Bexley</th>\n",
       "      <td>E09000004</td>\n",
       "      <td>64958.1</td>\n",
       "      <td>64787.9</td>\n",
       "      <td>64367.5</td>\n",
       "      <td>64277.7</td>\n",
       "      <td>63997.1</td>\n",
       "      <td>64252.3</td>\n",
       "      <td>63722.7</td>\n",
       "      <td>64432.6</td>\n",
       "      <td>64509.5</td>\n",
       "      <td>...</td>\n",
       "      <td>371846</td>\n",
       "      <td>374878</td>\n",
       "      <td>377659</td>\n",
       "      <td>378365</td>\n",
       "      <td>380927</td>\n",
       "      <td>384241</td>\n",
       "      <td>389417</td>\n",
       "      <td>391217</td>\n",
       "      <td>393389</td>\n",
       "      <td>395012</td>\n",
       "    </tr>\n",
       "  </tbody>\n",
       "</table>\n",
       "<p>5 rows × 331 columns</p>\n",
       "</div>"
      ],
      "text/plain": [
       "                          0                    1                    2    \\\n",
       "Unnamed: 0                NaT  1995-01-01 00:00:00  1995-02-01 00:00:00   \n",
       "City of London      E09000001                91449              82202.8   \n",
       "Barking & Dagenham  E09000002              50460.2              51085.8   \n",
       "Barnet              E09000003              93284.5              93190.2   \n",
       "Bexley              E09000004              64958.1              64787.9   \n",
       "\n",
       "                                    3                    4    \\\n",
       "Unnamed: 0          1995-03-01 00:00:00  1995-04-01 00:00:00   \n",
       "City of London                  79120.7              77101.2   \n",
       "Barking & Dagenham                51269              53133.5   \n",
       "Barnet                          92247.5              90762.9   \n",
       "Bexley                          64367.5              64277.7   \n",
       "\n",
       "                                    5                    6    \\\n",
       "Unnamed: 0          1995-05-01 00:00:00  1995-06-01 00:00:00   \n",
       "City of London                  84409.1              94900.5   \n",
       "Barking & Dagenham              53042.2              53700.3   \n",
       "Barnet                            90258              90107.2   \n",
       "Bexley                          63997.1              64252.3   \n",
       "\n",
       "                                    7                    8    \\\n",
       "Unnamed: 0          1995-07-01 00:00:00  1995-08-01 00:00:00   \n",
       "City of London                   110128               112329   \n",
       "Barking & Dagenham              52113.1              52232.2   \n",
       "Barnet                          91441.2              92361.3   \n",
       "Bexley                          63722.7              64432.6   \n",
       "\n",
       "                                    9    ...                  321  \\\n",
       "Unnamed: 0          1995-09-01 00:00:00  ...  2021-09-01 00:00:00   \n",
       "City of London                   104473  ...               954884   \n",
       "Barking & Dagenham              51471.6  ...               315039   \n",
       "Barnet                          93273.1  ...               554752   \n",
       "Bexley                          64509.5  ...               371846   \n",
       "\n",
       "                                    322                  323  \\\n",
       "Unnamed: 0          2021-10-01 00:00:00  2021-11-01 00:00:00   \n",
       "City of London                   793389               799675   \n",
       "Barking & Dagenham               326713               328531   \n",
       "Barnet                           568918               572810   \n",
       "Bexley                           374878               377659   \n",
       "\n",
       "                                    324                  325  \\\n",
       "Unnamed: 0          2021-12-01 00:00:00  2022-01-01 00:00:00   \n",
       "City of London                   809376               796047   \n",
       "Barking & Dagenham               330851               337557   \n",
       "Barnet                           574877               581453   \n",
       "Bexley                           378365               380927   \n",
       "\n",
       "                                    326                  327  \\\n",
       "Unnamed: 0          2022-02-01 00:00:00  2022-03-01 00:00:00   \n",
       "City of London                   856301               820302   \n",
       "Barking & Dagenham               341428               342723   \n",
       "Barnet                           578243               582655   \n",
       "Bexley                           384241               389417   \n",
       "\n",
       "                                    328                  329  \\\n",
       "Unnamed: 0          2022-04-01 00:00:00  2022-05-01 00:00:00   \n",
       "City of London                   860938               802500   \n",
       "Barking & Dagenham               339305               337715   \n",
       "Barnet                           594131               600963   \n",
       "Bexley                           391217               393389   \n",
       "\n",
       "                                    330  \n",
       "Unnamed: 0          2022-06-01 00:00:00  \n",
       "City of London                   830376  \n",
       "Barking & Dagenham               342083  \n",
       "Barnet                           599287  \n",
       "Bexley                           395012  \n",
       "\n",
       "[5 rows x 331 columns]"
      ]
     },
     "execution_count": 4,
     "metadata": {},
     "output_type": "execute_result"
    }
   ],
   "source": [
    "properties_t= properties.T # transposing df\n",
    "properties_t.head()"
   ]
  },
  {
   "cell_type": "markdown",
   "metadata": {},
   "source": [
    "###### * Cleaning step ii. - resetting index  / Borough names are currently in the index, need to move them to a column"
   ]
  },
  {
   "cell_type": "code",
   "execution_count": 5,
   "metadata": {},
   "outputs": [
    {
     "data": {
      "text/plain": [
       "RangeIndex(start=0, stop=49, step=1)"
      ]
     },
     "execution_count": 5,
     "metadata": {},
     "output_type": "execute_result"
    }
   ],
   "source": [
    "# resetting the index \n",
    "properties_t = properties_t.reset_index()\n",
    "properties_t.index #confirming reset_index"
   ]
  },
  {
   "cell_type": "code",
   "execution_count": 6,
   "metadata": {},
   "outputs": [
    {
     "data": {
      "text/plain": [
       "Index(['index',       0,       1,       2,       3,       4,       5,       6,\n",
       "             7,       8,\n",
       "       ...\n",
       "           321,     322,     323,     324,     325,     326,     327,     328,\n",
       "           329,     330],\n",
       "      dtype='object', length=332)"
      ]
     },
     "execution_count": 6,
     "metadata": {},
     "output_type": "execute_result"
    }
   ],
   "source": [
    "# checking column names\n",
    "properties_t.columns"
   ]
  },
  {
   "cell_type": "markdown",
   "metadata": {},
   "source": [
    "###### * Cleaning step iii. - renaming columns  / assigning the dates on the first row to column names and renaming borough and ID columns"
   ]
  },
  {
   "cell_type": "code",
   "execution_count": 7,
   "metadata": {},
   "outputs": [
    {
     "data": {
      "text/plain": [
       "Index([       'Unnamed: 0',                 NaT, 1995-01-01 00:00:00,\n",
       "       1995-02-01 00:00:00, 1995-03-01 00:00:00, 1995-04-01 00:00:00,\n",
       "       1995-05-01 00:00:00, 1995-06-01 00:00:00, 1995-07-01 00:00:00,\n",
       "       1995-08-01 00:00:00,\n",
       "       ...\n",
       "       2021-09-01 00:00:00, 2021-10-01 00:00:00, 2021-11-01 00:00:00,\n",
       "       2021-12-01 00:00:00, 2022-01-01 00:00:00, 2022-02-01 00:00:00,\n",
       "       2022-03-01 00:00:00, 2022-04-01 00:00:00, 2022-05-01 00:00:00,\n",
       "       2022-06-01 00:00:00],\n",
       "      dtype='object', name=0, length=332)"
      ]
     },
     "execution_count": 7,
     "metadata": {},
     "output_type": "execute_result"
    }
   ],
   "source": [
    "# asigning the dates on the first row to column names\n",
    "properties_t.columns = properties_t.iloc[0]\n",
    "properties_t.columns # confirming"
   ]
  },
  {
   "cell_type": "code",
   "execution_count": 8,
   "metadata": {},
   "outputs": [
    {
     "data": {
      "text/html": [
       "<div>\n",
       "<style scoped>\n",
       "    .dataframe tbody tr th:only-of-type {\n",
       "        vertical-align: middle;\n",
       "    }\n",
       "\n",
       "    .dataframe tbody tr th {\n",
       "        vertical-align: top;\n",
       "    }\n",
       "\n",
       "    .dataframe thead th {\n",
       "        text-align: right;\n",
       "    }\n",
       "</style>\n",
       "<table border=\"1\" class=\"dataframe\">\n",
       "  <thead>\n",
       "    <tr style=\"text-align: right;\">\n",
       "      <th></th>\n",
       "      <th>Unnamed: 0</th>\n",
       "      <th>NaN</th>\n",
       "      <th>1995-01-01 00:00:00</th>\n",
       "      <th>1995-02-01 00:00:00</th>\n",
       "      <th>1995-03-01 00:00:00</th>\n",
       "      <th>1995-04-01 00:00:00</th>\n",
       "      <th>1995-05-01 00:00:00</th>\n",
       "      <th>1995-06-01 00:00:00</th>\n",
       "      <th>1995-07-01 00:00:00</th>\n",
       "      <th>1995-08-01 00:00:00</th>\n",
       "      <th>...</th>\n",
       "      <th>2021-09-01 00:00:00</th>\n",
       "      <th>2021-10-01 00:00:00</th>\n",
       "      <th>2021-11-01 00:00:00</th>\n",
       "      <th>2021-12-01 00:00:00</th>\n",
       "      <th>2022-01-01 00:00:00</th>\n",
       "      <th>2022-02-01 00:00:00</th>\n",
       "      <th>2022-03-01 00:00:00</th>\n",
       "      <th>2022-04-01 00:00:00</th>\n",
       "      <th>2022-05-01 00:00:00</th>\n",
       "      <th>2022-06-01 00:00:00</th>\n",
       "    </tr>\n",
       "  </thead>\n",
       "  <tbody>\n",
       "    <tr>\n",
       "      <th>1</th>\n",
       "      <td>City of London</td>\n",
       "      <td>E09000001</td>\n",
       "      <td>91449</td>\n",
       "      <td>82202.8</td>\n",
       "      <td>79120.7</td>\n",
       "      <td>77101.2</td>\n",
       "      <td>84409.1</td>\n",
       "      <td>94900.5</td>\n",
       "      <td>110128</td>\n",
       "      <td>112329</td>\n",
       "      <td>...</td>\n",
       "      <td>954884</td>\n",
       "      <td>793389</td>\n",
       "      <td>799675</td>\n",
       "      <td>809376</td>\n",
       "      <td>796047</td>\n",
       "      <td>856301</td>\n",
       "      <td>820302</td>\n",
       "      <td>860938</td>\n",
       "      <td>802500</td>\n",
       "      <td>830376</td>\n",
       "    </tr>\n",
       "    <tr>\n",
       "      <th>2</th>\n",
       "      <td>Barking &amp; Dagenham</td>\n",
       "      <td>E09000002</td>\n",
       "      <td>50460.2</td>\n",
       "      <td>51085.8</td>\n",
       "      <td>51269</td>\n",
       "      <td>53133.5</td>\n",
       "      <td>53042.2</td>\n",
       "      <td>53700.3</td>\n",
       "      <td>52113.1</td>\n",
       "      <td>52232.2</td>\n",
       "      <td>...</td>\n",
       "      <td>315039</td>\n",
       "      <td>326713</td>\n",
       "      <td>328531</td>\n",
       "      <td>330851</td>\n",
       "      <td>337557</td>\n",
       "      <td>341428</td>\n",
       "      <td>342723</td>\n",
       "      <td>339305</td>\n",
       "      <td>337715</td>\n",
       "      <td>342083</td>\n",
       "    </tr>\n",
       "    <tr>\n",
       "      <th>3</th>\n",
       "      <td>Barnet</td>\n",
       "      <td>E09000003</td>\n",
       "      <td>93284.5</td>\n",
       "      <td>93190.2</td>\n",
       "      <td>92247.5</td>\n",
       "      <td>90762.9</td>\n",
       "      <td>90258</td>\n",
       "      <td>90107.2</td>\n",
       "      <td>91441.2</td>\n",
       "      <td>92361.3</td>\n",
       "      <td>...</td>\n",
       "      <td>554752</td>\n",
       "      <td>568918</td>\n",
       "      <td>572810</td>\n",
       "      <td>574877</td>\n",
       "      <td>581453</td>\n",
       "      <td>578243</td>\n",
       "      <td>582655</td>\n",
       "      <td>594131</td>\n",
       "      <td>600963</td>\n",
       "      <td>599287</td>\n",
       "    </tr>\n",
       "    <tr>\n",
       "      <th>4</th>\n",
       "      <td>Bexley</td>\n",
       "      <td>E09000004</td>\n",
       "      <td>64958.1</td>\n",
       "      <td>64787.9</td>\n",
       "      <td>64367.5</td>\n",
       "      <td>64277.7</td>\n",
       "      <td>63997.1</td>\n",
       "      <td>64252.3</td>\n",
       "      <td>63722.7</td>\n",
       "      <td>64432.6</td>\n",
       "      <td>...</td>\n",
       "      <td>371846</td>\n",
       "      <td>374878</td>\n",
       "      <td>377659</td>\n",
       "      <td>378365</td>\n",
       "      <td>380927</td>\n",
       "      <td>384241</td>\n",
       "      <td>389417</td>\n",
       "      <td>391217</td>\n",
       "      <td>393389</td>\n",
       "      <td>395012</td>\n",
       "    </tr>\n",
       "    <tr>\n",
       "      <th>5</th>\n",
       "      <td>Brent</td>\n",
       "      <td>E09000005</td>\n",
       "      <td>71306.6</td>\n",
       "      <td>72022.3</td>\n",
       "      <td>72015.8</td>\n",
       "      <td>72965.6</td>\n",
       "      <td>73704</td>\n",
       "      <td>74310.5</td>\n",
       "      <td>74127</td>\n",
       "      <td>73547</td>\n",
       "      <td>...</td>\n",
       "      <td>517734</td>\n",
       "      <td>512019</td>\n",
       "      <td>519123</td>\n",
       "      <td>522416</td>\n",
       "      <td>519264</td>\n",
       "      <td>524082</td>\n",
       "      <td>526105</td>\n",
       "      <td>534127</td>\n",
       "      <td>533333</td>\n",
       "      <td>528087</td>\n",
       "    </tr>\n",
       "  </tbody>\n",
       "</table>\n",
       "<p>5 rows × 332 columns</p>\n",
       "</div>"
      ],
      "text/plain": [
       "0          Unnamed: 0        NaN 1995-01-01 00:00:00 1995-02-01 00:00:00  \\\n",
       "1      City of London  E09000001               91449             82202.8   \n",
       "2  Barking & Dagenham  E09000002             50460.2             51085.8   \n",
       "3              Barnet  E09000003             93284.5             93190.2   \n",
       "4              Bexley  E09000004             64958.1             64787.9   \n",
       "5               Brent  E09000005             71306.6             72022.3   \n",
       "\n",
       "0 1995-03-01 00:00:00 1995-04-01 00:00:00 1995-05-01 00:00:00  \\\n",
       "1             79120.7             77101.2             84409.1   \n",
       "2               51269             53133.5             53042.2   \n",
       "3             92247.5             90762.9               90258   \n",
       "4             64367.5             64277.7             63997.1   \n",
       "5             72015.8             72965.6               73704   \n",
       "\n",
       "0 1995-06-01 00:00:00 1995-07-01 00:00:00 1995-08-01 00:00:00  ...  \\\n",
       "1             94900.5              110128              112329  ...   \n",
       "2             53700.3             52113.1             52232.2  ...   \n",
       "3             90107.2             91441.2             92361.3  ...   \n",
       "4             64252.3             63722.7             64432.6  ...   \n",
       "5             74310.5               74127               73547  ...   \n",
       "\n",
       "0 2021-09-01 00:00:00 2021-10-01 00:00:00 2021-11-01 00:00:00  \\\n",
       "1              954884              793389              799675   \n",
       "2              315039              326713              328531   \n",
       "3              554752              568918              572810   \n",
       "4              371846              374878              377659   \n",
       "5              517734              512019              519123   \n",
       "\n",
       "0 2021-12-01 00:00:00 2022-01-01 00:00:00 2022-02-01 00:00:00  \\\n",
       "1              809376              796047              856301   \n",
       "2              330851              337557              341428   \n",
       "3              574877              581453              578243   \n",
       "4              378365              380927              384241   \n",
       "5              522416              519264              524082   \n",
       "\n",
       "0 2022-03-01 00:00:00 2022-04-01 00:00:00 2022-05-01 00:00:00  \\\n",
       "1              820302              860938              802500   \n",
       "2              342723              339305              337715   \n",
       "3              582655              594131              600963   \n",
       "4              389417              391217              393389   \n",
       "5              526105              534127              533333   \n",
       "\n",
       "0 2022-06-01 00:00:00  \n",
       "1              830376  \n",
       "2              342083  \n",
       "3              599287  \n",
       "4              395012  \n",
       "5              528087  \n",
       "\n",
       "[5 rows x 332 columns]"
      ]
     },
     "execution_count": 8,
     "metadata": {},
     "output_type": "execute_result"
    }
   ],
   "source": [
    "# removing the reduntant first row \n",
    "properties_t = properties_t.drop(0)\n",
    "properties_t.head() # checking resulting df"
   ]
  },
  {
   "cell_type": "markdown",
   "metadata": {
    "colab_type": "text",
    "id": "o1uLbJAsoIjK"
   },
   "source": [
    "#### **2.3. Cleaning the data (part 2)**\n",
    "\n",
    "You might we have to **rename** a couple columns. How do you do this? The clue's pretty bold..."
   ]
  },
  {
   "cell_type": "code",
   "execution_count": 9,
   "metadata": {
    "colab": {},
    "colab_type": "code",
    "id": "GKkmn1AnoVZS"
   },
   "outputs": [
    {
     "data": {
      "text/plain": [
       "Index([   'London_Borough',                'ID', 1995-01-01 00:00:00,\n",
       "       1995-02-01 00:00:00, 1995-03-01 00:00:00, 1995-04-01 00:00:00,\n",
       "       1995-05-01 00:00:00, 1995-06-01 00:00:00, 1995-07-01 00:00:00,\n",
       "       1995-08-01 00:00:00,\n",
       "       ...\n",
       "       2021-09-01 00:00:00, 2021-10-01 00:00:00, 2021-11-01 00:00:00,\n",
       "       2021-12-01 00:00:00, 2022-01-01 00:00:00, 2022-02-01 00:00:00,\n",
       "       2022-03-01 00:00:00, 2022-04-01 00:00:00, 2022-05-01 00:00:00,\n",
       "       2022-06-01 00:00:00],\n",
       "      dtype='object', name=0, length=332)"
      ]
     },
     "execution_count": 9,
     "metadata": {},
     "output_type": "execute_result"
    }
   ],
   "source": [
    "# renaming 1st and 2nd column London_Borough and ID: \n",
    "properties_t = properties_t.rename(columns = {'Unnamed: 0':'London_Borough', pd.NaT: 'ID'})\n",
    "properties_t.columns # confirming rename"
   ]
  },
  {
   "cell_type": "markdown",
   "metadata": {},
   "source": [
    "###### * Cleaning step iv. - Melting the dataframe with itself to have all dates and average prices in a row with their corresponding boroughs"
   ]
  },
  {
   "cell_type": "markdown",
   "metadata": {
    "colab_type": "text",
    "id": "jy8BzXHmoWEw"
   },
   "source": [
    "**2.4.Transforming the data**\n",
    "\n",
    "Remember what Wes McKinney said about tidy data? \n",
    "\n",
    "You might need to **melt** your DataFrame here. "
   ]
  },
  {
   "cell_type": "code",
   "execution_count": 10,
   "metadata": {
    "colab": {},
    "colab_type": "code",
    "id": "S2wM0qLuo2Zt"
   },
   "outputs": [
    {
     "data": {
      "text/html": [
       "<div>\n",
       "<style scoped>\n",
       "    .dataframe tbody tr th:only-of-type {\n",
       "        vertical-align: middle;\n",
       "    }\n",
       "\n",
       "    .dataframe tbody tr th {\n",
       "        vertical-align: top;\n",
       "    }\n",
       "\n",
       "    .dataframe thead th {\n",
       "        text-align: right;\n",
       "    }\n",
       "</style>\n",
       "<table border=\"1\" class=\"dataframe\">\n",
       "  <thead>\n",
       "    <tr style=\"text-align: right;\">\n",
       "      <th></th>\n",
       "      <th>London_Borough</th>\n",
       "      <th>ID</th>\n",
       "      <th>0</th>\n",
       "      <th>value</th>\n",
       "    </tr>\n",
       "  </thead>\n",
       "  <tbody>\n",
       "    <tr>\n",
       "      <th>0</th>\n",
       "      <td>City of London</td>\n",
       "      <td>E09000001</td>\n",
       "      <td>1995-01-01</td>\n",
       "      <td>91449</td>\n",
       "    </tr>\n",
       "    <tr>\n",
       "      <th>1</th>\n",
       "      <td>Barking &amp; Dagenham</td>\n",
       "      <td>E09000002</td>\n",
       "      <td>1995-01-01</td>\n",
       "      <td>50460.2</td>\n",
       "    </tr>\n",
       "    <tr>\n",
       "      <th>2</th>\n",
       "      <td>Barnet</td>\n",
       "      <td>E09000003</td>\n",
       "      <td>1995-01-01</td>\n",
       "      <td>93284.5</td>\n",
       "    </tr>\n",
       "    <tr>\n",
       "      <th>3</th>\n",
       "      <td>Bexley</td>\n",
       "      <td>E09000004</td>\n",
       "      <td>1995-01-01</td>\n",
       "      <td>64958.1</td>\n",
       "    </tr>\n",
       "    <tr>\n",
       "      <th>4</th>\n",
       "      <td>Brent</td>\n",
       "      <td>E09000005</td>\n",
       "      <td>1995-01-01</td>\n",
       "      <td>71306.6</td>\n",
       "    </tr>\n",
       "  </tbody>\n",
       "</table>\n",
       "</div>"
      ],
      "text/plain": [
       "       London_Borough         ID          0    value\n",
       "0      City of London  E09000001 1995-01-01    91449\n",
       "1  Barking & Dagenham  E09000002 1995-01-01  50460.2\n",
       "2              Barnet  E09000003 1995-01-01  93284.5\n",
       "3              Bexley  E09000004 1995-01-01  64958.1\n",
       "4               Brent  E09000005 1995-01-01  71306.6"
      ]
     },
     "execution_count": 10,
     "metadata": {},
     "output_type": "execute_result"
    }
   ],
   "source": [
    "# need to melt to clean up the column names\n",
    "properties_m = pd.melt(properties_t,id_vars=['London_Borough', 'ID'])\n",
    "properties_m.head()"
   ]
  },
  {
   "cell_type": "code",
   "execution_count": 11,
   "metadata": {},
   "outputs": [
    {
     "data": {
      "text/html": [
       "<div>\n",
       "<style scoped>\n",
       "    .dataframe tbody tr th:only-of-type {\n",
       "        vertical-align: middle;\n",
       "    }\n",
       "\n",
       "    .dataframe tbody tr th {\n",
       "        vertical-align: top;\n",
       "    }\n",
       "\n",
       "    .dataframe thead th {\n",
       "        text-align: right;\n",
       "    }\n",
       "</style>\n",
       "<table border=\"1\" class=\"dataframe\">\n",
       "  <thead>\n",
       "    <tr style=\"text-align: right;\">\n",
       "      <th></th>\n",
       "      <th>London_Borough</th>\n",
       "      <th>ID</th>\n",
       "      <th>Date</th>\n",
       "      <th>Average_price</th>\n",
       "    </tr>\n",
       "  </thead>\n",
       "  <tbody>\n",
       "    <tr>\n",
       "      <th>0</th>\n",
       "      <td>City of London</td>\n",
       "      <td>E09000001</td>\n",
       "      <td>1995-01-01</td>\n",
       "      <td>91449</td>\n",
       "    </tr>\n",
       "    <tr>\n",
       "      <th>1</th>\n",
       "      <td>Barking &amp; Dagenham</td>\n",
       "      <td>E09000002</td>\n",
       "      <td>1995-01-01</td>\n",
       "      <td>50460.2</td>\n",
       "    </tr>\n",
       "    <tr>\n",
       "      <th>2</th>\n",
       "      <td>Barnet</td>\n",
       "      <td>E09000003</td>\n",
       "      <td>1995-01-01</td>\n",
       "      <td>93284.5</td>\n",
       "    </tr>\n",
       "    <tr>\n",
       "      <th>3</th>\n",
       "      <td>Bexley</td>\n",
       "      <td>E09000004</td>\n",
       "      <td>1995-01-01</td>\n",
       "      <td>64958.1</td>\n",
       "    </tr>\n",
       "    <tr>\n",
       "      <th>4</th>\n",
       "      <td>Brent</td>\n",
       "      <td>E09000005</td>\n",
       "      <td>1995-01-01</td>\n",
       "      <td>71306.6</td>\n",
       "    </tr>\n",
       "  </tbody>\n",
       "</table>\n",
       "</div>"
      ],
      "text/plain": [
       "       London_Borough         ID       Date Average_price\n",
       "0      City of London  E09000001 1995-01-01         91449\n",
       "1  Barking & Dagenham  E09000002 1995-01-01       50460.2\n",
       "2              Barnet  E09000003 1995-01-01       93284.5\n",
       "3              Bexley  E09000004 1995-01-01       64958.1\n",
       "4               Brent  E09000005 1995-01-01       71306.6"
      ]
     },
     "execution_count": 11,
     "metadata": {},
     "output_type": "execute_result"
    }
   ],
   "source": [
    "# renaming 0 and value columns\n",
    "properties_m = properties_m.rename(columns = {0 :'Date','value': 'Average_price'})\n",
    "properties_m.head() # confirming rename"
   ]
  },
  {
   "cell_type": "markdown",
   "metadata": {
    "colab_type": "text",
    "id": "7kIsgAo7o3mf"
   },
   "source": [
    "Remember to make sure your column data types are all correct. Average prices, for example, should be floating point numbers... "
   ]
  },
  {
   "cell_type": "markdown",
   "metadata": {},
   "source": [
    "###### * Cleaning step v. - Converting data types"
   ]
  },
  {
   "cell_type": "code",
   "execution_count": 12,
   "metadata": {
    "colab": {},
    "colab_type": "code",
    "id": "ZcR4IHbcpOaq"
   },
   "outputs": [
    {
     "data": {
      "text/plain": [
       "London_Borough            object\n",
       "ID                        object\n",
       "Date              datetime64[ns]\n",
       "Average_price             object\n",
       "dtype: object"
      ]
     },
     "execution_count": 12,
     "metadata": {},
     "output_type": "execute_result"
    }
   ],
   "source": [
    "properties_m.dtypes # checking column data types"
   ]
  },
  {
   "cell_type": "code",
   "execution_count": 13,
   "metadata": {},
   "outputs": [
    {
     "data": {
      "text/plain": [
       "London_Borough            object\n",
       "ID                        object\n",
       "Date              datetime64[ns]\n",
       "Average_price            float64\n",
       "dtype: object"
      ]
     },
     "execution_count": 13,
     "metadata": {},
     "output_type": "execute_result"
    }
   ],
   "source": [
    "properties_m['Average_price'] = pd.to_numeric(properties_m['Average_price']) # converting avg price dtype to float\n",
    "properties_m.dtypes # confirming type conversion"
   ]
  },
  {
   "cell_type": "markdown",
   "metadata": {
    "colab_type": "text",
    "id": "knLUXHLypOtw"
   },
   "source": [
    "**2.5. Cleaning the data (part 3)**\n",
    "\n",
    "Do we have an equal number of observations in the ID, Average Price, Month, and London Borough columns? Remember that there are only 32 London Boroughs. How many entries do you have in that column? \n",
    "\n",
    "Check out the contents of the London Borough column, and if you find null values, get rid of them however you see fit. "
   ]
  },
  {
   "cell_type": "markdown",
   "metadata": {},
   "source": [
    "###### * Cleaning step vi. - Removing non-boroughs, unnamed data and NAs"
   ]
  },
  {
   "cell_type": "code",
   "execution_count": 14,
   "metadata": {},
   "outputs": [
    {
     "data": {
      "text/plain": [
       "London_Borough    15840\n",
       "ID                14850\n",
       "Date              15840\n",
       "Average_price     14850\n",
       "dtype: int64"
      ]
     },
     "execution_count": 14,
     "metadata": {},
     "output_type": "execute_result"
    }
   ],
   "source": [
    "properties_m.count() # checking number of observations in columns and seeing that there are some unmatching data"
   ]
  },
  {
   "cell_type": "code",
   "execution_count": 15,
   "metadata": {
    "colab": {},
    "colab_type": "code",
    "id": "BnvTW5a3p0fC"
   },
   "outputs": [
    {
     "data": {
      "text/plain": [
       "array(['City of London', 'Barking & Dagenham', 'Barnet', 'Bexley',\n",
       "       'Brent', 'Bromley', 'Camden', 'Croydon', 'Ealing', 'Enfield',\n",
       "       'Greenwich', 'Hackney', 'Hammersmith & Fulham', 'Haringey',\n",
       "       'Harrow', 'Havering', 'Hillingdon', 'Hounslow', 'Islington',\n",
       "       'Kensington & Chelsea', 'Kingston upon Thames', 'Lambeth',\n",
       "       'Lewisham', 'Merton', 'Newham', 'Redbridge',\n",
       "       'Richmond upon Thames', 'Southwark', 'Sutton', 'Tower Hamlets',\n",
       "       'Waltham Forest', 'Wandsworth', 'Westminster', 'Unnamed: 34',\n",
       "       'Inner London', 'Outer London', 'Unnamed: 37', 'NORTH EAST',\n",
       "       'NORTH WEST', 'YORKS & THE HUMBER', 'EAST MIDLANDS',\n",
       "       'WEST MIDLANDS', 'EAST OF ENGLAND', 'LONDON', 'SOUTH EAST',\n",
       "       'SOUTH WEST', 'Unnamed: 47', 'England'], dtype=object)"
      ]
     },
     "execution_count": 15,
     "metadata": {},
     "output_type": "execute_result"
    }
   ],
   "source": [
    "# checking borough names\n",
    "properties_m['London_Borough'].unique()"
   ]
  },
  {
   "cell_type": "code",
   "execution_count": 16,
   "metadata": {},
   "outputs": [],
   "source": [
    "# 3 unnamed boroughs and more than 32 named boroughs are present, need to check if we can drop unnamed rows\n",
    "properties_m[properties_m['London_Borough'].isin(['Unnamed: 34','Unnamed 37', 'Unnamed: 47'])]\n",
    "# other columns for unnamed boroughs are NaN, safe to drop, renaming dataframe as clean\n",
    "clean_properties = properties_m[properties_m['London_Borough'].isin(['Unnamed: 34','Unnamed: 37', 'Unnamed: 47']) == False]"
   ]
  },
  {
   "cell_type": "code",
   "execution_count": 17,
   "metadata": {},
   "outputs": [
    {
     "data": {
      "text/plain": [
       "array(['City of London', 'Barking & Dagenham', 'Barnet', 'Bexley',\n",
       "       'Brent', 'Bromley', 'Camden', 'Croydon', 'Ealing', 'Enfield',\n",
       "       'Greenwich', 'Hackney', 'Hammersmith & Fulham', 'Haringey',\n",
       "       'Harrow', 'Havering', 'Hillingdon', 'Hounslow', 'Islington',\n",
       "       'Kensington & Chelsea', 'Kingston upon Thames', 'Lambeth',\n",
       "       'Lewisham', 'Merton', 'Newham', 'Redbridge',\n",
       "       'Richmond upon Thames', 'Southwark', 'Sutton', 'Tower Hamlets',\n",
       "       'Waltham Forest', 'Wandsworth', 'Westminster', 'Inner London',\n",
       "       'Outer London', 'NORTH EAST', 'NORTH WEST', 'YORKS & THE HUMBER',\n",
       "       'EAST MIDLANDS', 'WEST MIDLANDS', 'EAST OF ENGLAND', 'LONDON',\n",
       "       'SOUTH EAST', 'SOUTH WEST', 'England'], dtype=object)"
      ]
     },
     "execution_count": 17,
     "metadata": {},
     "output_type": "execute_result"
    }
   ],
   "source": [
    "clean_properties['London_Borough'].unique() # still need to get rid of non-boroughs"
   ]
  },
  {
   "cell_type": "code",
   "execution_count": 18,
   "metadata": {},
   "outputs": [
    {
     "data": {
      "text/plain": [
       "array(['City of London', 'Barking & Dagenham', 'Barnet', 'Bexley',\n",
       "       'Brent', 'Bromley', 'Camden', 'Croydon', 'Ealing', 'Enfield',\n",
       "       'Greenwich', 'Hackney', 'Hammersmith & Fulham', 'Haringey',\n",
       "       'Harrow', 'Havering', 'Hillingdon', 'Hounslow', 'Islington',\n",
       "       'Kensington & Chelsea', 'Kingston upon Thames', 'Lambeth',\n",
       "       'Lewisham', 'Merton', 'Newham', 'Redbridge',\n",
       "       'Richmond upon Thames', 'Southwark', 'Sutton', 'Tower Hamlets',\n",
       "       'Waltham Forest', 'Wandsworth', 'Westminster'], dtype=object)"
      ]
     },
     "execution_count": 18,
     "metadata": {},
     "output_type": "execute_result"
    }
   ],
   "source": [
    "non_boroughs = ['Inner London', 'Outer London', \n",
    "               'NORTH EAST', 'NORTH WEST', 'YORKS & THE HUMBER', \n",
    "               'EAST MIDLANDS', 'WEST MIDLANDS',\n",
    "              'EAST OF ENGLAND', 'LONDON', 'SOUTH EAST', \n",
    "              'SOUTH WEST', 'England']\n",
    "clean_properties = clean_properties[clean_properties['London_Borough'].isin(non_boroughs) == False] # removing nonboroughs from clean_prop\n",
    "clean_properties['London_Borough'].unique() "
   ]
  },
  {
   "cell_type": "code",
   "execution_count": 19,
   "metadata": {},
   "outputs": [
    {
     "data": {
      "text/plain": [
       "London_Borough    False\n",
       "ID                False\n",
       "Date              False\n",
       "Average_price     False\n",
       "dtype: bool"
      ]
     },
     "execution_count": 19,
     "metadata": {},
     "output_type": "execute_result"
    }
   ],
   "source": [
    "# next, checking NAs \n",
    "clean_properties.isna().any() # No NAs left after removing all unnamed boroughs and nonboroughs "
   ]
  },
  {
   "cell_type": "markdown",
   "metadata": {},
   "source": [
    "###### *   Finalizing cleaning steps - checking final df & summary stats"
   ]
  },
  {
   "cell_type": "code",
   "execution_count": 20,
   "metadata": {},
   "outputs": [
    {
     "data": {
      "text/plain": [
       "London_Borough    10890\n",
       "ID                10890\n",
       "Date              10890\n",
       "Average_price     10890\n",
       "dtype: int64"
      ]
     },
     "execution_count": 20,
     "metadata": {},
     "output_type": "execute_result"
    }
   ],
   "source": [
    "# finalizing the cleaning by asigning the dataframe to df and checking summary stats\n",
    "df = clean_properties\n",
    "df.count()"
   ]
  },
  {
   "cell_type": "code",
   "execution_count": 21,
   "metadata": {},
   "outputs": [
    {
     "data": {
      "text/html": [
       "<div>\n",
       "<style scoped>\n",
       "    .dataframe tbody tr th:only-of-type {\n",
       "        vertical-align: middle;\n",
       "    }\n",
       "\n",
       "    .dataframe tbody tr th {\n",
       "        vertical-align: top;\n",
       "    }\n",
       "\n",
       "    .dataframe thead th {\n",
       "        text-align: right;\n",
       "    }\n",
       "</style>\n",
       "<table border=\"1\" class=\"dataframe\">\n",
       "  <thead>\n",
       "    <tr style=\"text-align: right;\">\n",
       "      <th></th>\n",
       "      <th>London_Borough</th>\n",
       "      <th>ID</th>\n",
       "      <th>Date</th>\n",
       "      <th>Average_price</th>\n",
       "    </tr>\n",
       "  </thead>\n",
       "  <tbody>\n",
       "    <tr>\n",
       "      <th>0</th>\n",
       "      <td>City of London</td>\n",
       "      <td>E09000001</td>\n",
       "      <td>1995-01-01</td>\n",
       "      <td>91448.98487</td>\n",
       "    </tr>\n",
       "    <tr>\n",
       "      <th>1</th>\n",
       "      <td>Barking &amp; Dagenham</td>\n",
       "      <td>E09000002</td>\n",
       "      <td>1995-01-01</td>\n",
       "      <td>50460.22660</td>\n",
       "    </tr>\n",
       "    <tr>\n",
       "      <th>2</th>\n",
       "      <td>Barnet</td>\n",
       "      <td>E09000003</td>\n",
       "      <td>1995-01-01</td>\n",
       "      <td>93284.51832</td>\n",
       "    </tr>\n",
       "    <tr>\n",
       "      <th>3</th>\n",
       "      <td>Bexley</td>\n",
       "      <td>E09000004</td>\n",
       "      <td>1995-01-01</td>\n",
       "      <td>64958.09036</td>\n",
       "    </tr>\n",
       "    <tr>\n",
       "      <th>4</th>\n",
       "      <td>Brent</td>\n",
       "      <td>E09000005</td>\n",
       "      <td>1995-01-01</td>\n",
       "      <td>71306.56698</td>\n",
       "    </tr>\n",
       "  </tbody>\n",
       "</table>\n",
       "</div>"
      ],
      "text/plain": [
       "       London_Borough         ID       Date  Average_price\n",
       "0      City of London  E09000001 1995-01-01    91448.98487\n",
       "1  Barking & Dagenham  E09000002 1995-01-01    50460.22660\n",
       "2              Barnet  E09000003 1995-01-01    93284.51832\n",
       "3              Bexley  E09000004 1995-01-01    64958.09036\n",
       "4               Brent  E09000005 1995-01-01    71306.56698"
      ]
     },
     "execution_count": 21,
     "metadata": {},
     "output_type": "execute_result"
    }
   ],
   "source": [
    "df.head() "
   ]
  },
  {
   "cell_type": "code",
   "execution_count": 22,
   "metadata": {
    "scrolled": true
   },
   "outputs": [
    {
     "name": "stdout",
     "output_type": "stream",
     "text": [
      "<class 'pandas.core.frame.DataFrame'>\n",
      "Int64Index: 10890 entries, 0 to 15824\n",
      "Data columns (total 4 columns):\n",
      " #   Column          Non-Null Count  Dtype         \n",
      "---  ------          --------------  -----         \n",
      " 0   London_Borough  10890 non-null  object        \n",
      " 1   ID              10890 non-null  object        \n",
      " 2   Date            10890 non-null  datetime64[ns]\n",
      " 3   Average_price   10890 non-null  float64       \n",
      "dtypes: datetime64[ns](1), float64(1), object(2)\n",
      "memory usage: 425.4+ KB\n"
     ]
    }
   ],
   "source": [
    "df.info()"
   ]
  },
  {
   "cell_type": "code",
   "execution_count": 23,
   "metadata": {},
   "outputs": [
    {
     "data": {
      "text/plain": [
       "<bound method Series.count of 0       1995-01-01\n",
       "1       1995-01-01\n",
       "2       1995-01-01\n",
       "3       1995-01-01\n",
       "4       1995-01-01\n",
       "           ...    \n",
       "15820   2022-06-01\n",
       "15821   2022-06-01\n",
       "15822   2022-06-01\n",
       "15823   2022-06-01\n",
       "15824   2022-06-01\n",
       "Name: Date, Length: 10890, dtype: datetime64[ns]>"
      ]
     },
     "execution_count": 23,
     "metadata": {},
     "output_type": "execute_result"
    }
   ],
   "source": [
    "df['Date'].count"
   ]
  },
  {
   "cell_type": "markdown",
   "metadata": {
    "colab_type": "text",
    "id": "PGEx6mJsp6dG"
   },
   "source": [
    "**2.6. Visualizing the data**\n",
    "\n",
    "To visualize the data, why not subset on a particular London Borough? Maybe do a line plot of Month against Average Price?"
   ]
  },
  {
   "cell_type": "code",
   "execution_count": 24,
   "metadata": {
    "colab": {},
    "colab_type": "code",
    "id": "nAg5pT9cqHAR"
   },
   "outputs": [
    {
     "data": {
      "text/plain": [
       "Text(0, 0.5, 'Average Price')"
      ]
     },
     "execution_count": 24,
     "metadata": {},
     "output_type": "execute_result"
    },
    {
     "data": {
      "image/png": "[encoded data removed]",
      "text/plain": [
       "<Figure size 432x288 with 1 Axes>"
      ]
     },
     "metadata": {
      "needs_background": "light"
     },
     "output_type": "display_data"
    }
   ],
   "source": [
    "westminster_prices = df[df['London_Borough'] == 'Westminster']\n",
    "westminster_plot = westminster_prices.plot(x ='Date', y='Average_price', kind = 'line',  title='Average Housing Prices for Westminster from 1995-2022')\n",
    "westminster_plot.set_ylabel('Average Price')"
   ]
  },
  {
   "cell_type": "markdown",
   "metadata": {
    "colab_type": "text",
    "id": "aWTPqSJeqHnC"
   },
   "source": [
    "To limit the number of data points you have, you might want to extract the year from every month value your *Month* column. \n",
    "\n",
    "To this end, you *could* apply a ***lambda function***. Your logic could work as follows:\n",
    "1. look through the `Month` column\n",
    "2. extract the year from each individual value in that column \n",
    "3. store that corresponding year as separate column. \n",
    "\n",
    "Whether you go ahead with this is up to you. Just so long as you answer our initial brief: which boroughs of London have seen the greatest house price increase, on average, over the past two decades? "
   ]
  },
  {
   "cell_type": "code",
   "execution_count": 25,
   "metadata": {
    "colab": {},
    "colab_type": "code",
    "id": "e0DF92cyqnu8"
   },
   "outputs": [
    {
     "data": {
      "text/html": [
       "<div>\n",
       "<style scoped>\n",
       "    .dataframe tbody tr th:only-of-type {\n",
       "        vertical-align: middle;\n",
       "    }\n",
       "\n",
       "    .dataframe tbody tr th {\n",
       "        vertical-align: top;\n",
       "    }\n",
       "\n",
       "    .dataframe thead th {\n",
       "        text-align: right;\n",
       "    }\n",
       "</style>\n",
       "<table border=\"1\" class=\"dataframe\">\n",
       "  <thead>\n",
       "    <tr style=\"text-align: right;\">\n",
       "      <th></th>\n",
       "      <th>London_Borough</th>\n",
       "      <th>ID</th>\n",
       "      <th>Date</th>\n",
       "      <th>Average_price</th>\n",
       "      <th>Year</th>\n",
       "    </tr>\n",
       "  </thead>\n",
       "  <tbody>\n",
       "    <tr>\n",
       "      <th>15820</th>\n",
       "      <td>Sutton</td>\n",
       "      <td>E09000029</td>\n",
       "      <td>2022-06-01</td>\n",
       "      <td>437192.3681</td>\n",
       "      <td>2022</td>\n",
       "    </tr>\n",
       "    <tr>\n",
       "      <th>15821</th>\n",
       "      <td>Tower Hamlets</td>\n",
       "      <td>E09000030</td>\n",
       "      <td>2022-06-01</td>\n",
       "      <td>484026.0904</td>\n",
       "      <td>2022</td>\n",
       "    </tr>\n",
       "    <tr>\n",
       "      <th>15822</th>\n",
       "      <td>Waltham Forest</td>\n",
       "      <td>E09000031</td>\n",
       "      <td>2022-06-01</td>\n",
       "      <td>501172.3033</td>\n",
       "      <td>2022</td>\n",
       "    </tr>\n",
       "    <tr>\n",
       "      <th>15823</th>\n",
       "      <td>Wandsworth</td>\n",
       "      <td>E09000032</td>\n",
       "      <td>2022-06-01</td>\n",
       "      <td>638840.6227</td>\n",
       "      <td>2022</td>\n",
       "    </tr>\n",
       "    <tr>\n",
       "      <th>15824</th>\n",
       "      <td>Westminster</td>\n",
       "      <td>E09000033</td>\n",
       "      <td>2022-06-01</td>\n",
       "      <td>944440.7465</td>\n",
       "      <td>2022</td>\n",
       "    </tr>\n",
       "  </tbody>\n",
       "</table>\n",
       "</div>"
      ],
      "text/plain": [
       "       London_Borough         ID       Date  Average_price  Year\n",
       "15820          Sutton  E09000029 2022-06-01    437192.3681  2022\n",
       "15821   Tower Hamlets  E09000030 2022-06-01    484026.0904  2022\n",
       "15822  Waltham Forest  E09000031 2022-06-01    501172.3033  2022\n",
       "15823      Wandsworth  E09000032 2022-06-01    638840.6227  2022\n",
       "15824     Westminster  E09000033 2022-06-01    944440.7465  2022"
      ]
     },
     "execution_count": 25,
     "metadata": {},
     "output_type": "execute_result"
    }
   ],
   "source": [
    "df['Year'] = df['Date'].apply(lambda t: t.year)\n",
    "df.tail()"
   ]
  },
  {
   "cell_type": "code",
   "execution_count": 26,
   "metadata": {},
   "outputs": [
    {
     "data": {
      "text/html": [
       "<div>\n",
       "<style scoped>\n",
       "    .dataframe tbody tr th:only-of-type {\n",
       "        vertical-align: middle;\n",
       "    }\n",
       "\n",
       "    .dataframe tbody tr th {\n",
       "        vertical-align: top;\n",
       "    }\n",
       "\n",
       "    .dataframe thead th {\n",
       "        text-align: right;\n",
       "    }\n",
       "</style>\n",
       "<table border=\"1\" class=\"dataframe\">\n",
       "  <thead>\n",
       "    <tr style=\"text-align: right;\">\n",
       "      <th></th>\n",
       "      <th></th>\n",
       "      <th>Average_price</th>\n",
       "    </tr>\n",
       "    <tr>\n",
       "      <th>London_Borough</th>\n",
       "      <th>Year</th>\n",
       "      <th></th>\n",
       "    </tr>\n",
       "  </thead>\n",
       "  <tbody>\n",
       "    <tr>\n",
       "      <th>Hillingdon</th>\n",
       "      <th>2011</th>\n",
       "      <td>251781.663308</td>\n",
       "    </tr>\n",
       "    <tr>\n",
       "      <th>Tower Hamlets</th>\n",
       "      <th>2022</th>\n",
       "      <td>471223.637600</td>\n",
       "    </tr>\n",
       "    <tr>\n",
       "      <th>Camden</th>\n",
       "      <th>2017</th>\n",
       "      <td>839347.476208</td>\n",
       "    </tr>\n",
       "    <tr>\n",
       "      <th>Barking &amp; Dagenham</th>\n",
       "      <th>2008</th>\n",
       "      <td>187356.865783</td>\n",
       "    </tr>\n",
       "    <tr>\n",
       "      <th>Hackney</th>\n",
       "      <th>1995</th>\n",
       "      <td>66024.476545</td>\n",
       "    </tr>\n",
       "    <tr>\n",
       "      <th>Lewisham</th>\n",
       "      <th>2013</th>\n",
       "      <td>260815.066433</td>\n",
       "    </tr>\n",
       "    <tr>\n",
       "      <th>Hammersmith &amp; Fulham</th>\n",
       "      <th>2004</th>\n",
       "      <td>343380.916750</td>\n",
       "    </tr>\n",
       "    <tr>\n",
       "      <th>Hackney</th>\n",
       "      <th>2005</th>\n",
       "      <td>227936.951650</td>\n",
       "    </tr>\n",
       "    <tr>\n",
       "      <th>Barking &amp; Dagenham</th>\n",
       "      <th>2002</th>\n",
       "      <td>112221.912482</td>\n",
       "    </tr>\n",
       "    <tr>\n",
       "      <th>Hackney</th>\n",
       "      <th>2006</th>\n",
       "      <td>253254.400458</td>\n",
       "    </tr>\n",
       "  </tbody>\n",
       "</table>\n",
       "</div>"
      ],
      "text/plain": [
       "                           Average_price\n",
       "London_Borough       Year               \n",
       "Hillingdon           2011  251781.663308\n",
       "Tower Hamlets        2022  471223.637600\n",
       "Camden               2017  839347.476208\n",
       "Barking & Dagenham   2008  187356.865783\n",
       "Hackney              1995   66024.476545\n",
       "Lewisham             2013  260815.066433\n",
       "Hammersmith & Fulham 2004  343380.916750\n",
       "Hackney              2005  227936.951650\n",
       "Barking & Dagenham   2002  112221.912482\n",
       "Hackney              2006  253254.400458"
      ]
     },
     "execution_count": 26,
     "metadata": {},
     "output_type": "execute_result"
    }
   ],
   "source": [
    "dfg = df.groupby(by=['London_Borough', 'Year']).mean()\n",
    "dfg.sample(10)"
   ]
  },
  {
   "cell_type": "code",
   "execution_count": 27,
   "metadata": {},
   "outputs": [
    {
     "data": {
      "text/html": [
       "<div>\n",
       "<style scoped>\n",
       "    .dataframe tbody tr th:only-of-type {\n",
       "        vertical-align: middle;\n",
       "    }\n",
       "\n",
       "    .dataframe tbody tr th {\n",
       "        vertical-align: top;\n",
       "    }\n",
       "\n",
       "    .dataframe thead th {\n",
       "        text-align: right;\n",
       "    }\n",
       "</style>\n",
       "<table border=\"1\" class=\"dataframe\">\n",
       "  <thead>\n",
       "    <tr style=\"text-align: right;\">\n",
       "      <th></th>\n",
       "      <th>London_Borough</th>\n",
       "      <th>Year</th>\n",
       "      <th>Average_price</th>\n",
       "    </tr>\n",
       "  </thead>\n",
       "  <tbody>\n",
       "    <tr>\n",
       "      <th>0</th>\n",
       "      <td>Barking &amp; Dagenham</td>\n",
       "      <td>1995</td>\n",
       "      <td>51817.969390</td>\n",
       "    </tr>\n",
       "    <tr>\n",
       "      <th>1</th>\n",
       "      <td>Barking &amp; Dagenham</td>\n",
       "      <td>1996</td>\n",
       "      <td>51718.192690</td>\n",
       "    </tr>\n",
       "    <tr>\n",
       "      <th>2</th>\n",
       "      <td>Barking &amp; Dagenham</td>\n",
       "      <td>1997</td>\n",
       "      <td>55974.262309</td>\n",
       "    </tr>\n",
       "    <tr>\n",
       "      <th>3</th>\n",
       "      <td>Barking &amp; Dagenham</td>\n",
       "      <td>1998</td>\n",
       "      <td>60285.821083</td>\n",
       "    </tr>\n",
       "    <tr>\n",
       "      <th>4</th>\n",
       "      <td>Barking &amp; Dagenham</td>\n",
       "      <td>1999</td>\n",
       "      <td>65320.934441</td>\n",
       "    </tr>\n",
       "  </tbody>\n",
       "</table>\n",
       "</div>"
      ],
      "text/plain": [
       "       London_Borough  Year  Average_price\n",
       "0  Barking & Dagenham  1995   51817.969390\n",
       "1  Barking & Dagenham  1996   51718.192690\n",
       "2  Barking & Dagenham  1997   55974.262309\n",
       "3  Barking & Dagenham  1998   60285.821083\n",
       "4  Barking & Dagenham  1999   65320.934441"
      ]
     },
     "execution_count": 27,
     "metadata": {},
     "output_type": "execute_result"
    }
   ],
   "source": [
    "dfg = dfg.reset_index()\n",
    "dfg.head()"
   ]
  },
  {
   "cell_type": "markdown",
   "metadata": {
    "colab_type": "text",
    "id": "2knuTxAEqoJ4"
   },
   "source": [
    "**3. Modeling**\n",
    "\n",
    "Consider creating a function that will calculate a ratio of house prices, comparing the price of a house in 2018 to the price in 1998.\n",
    "\n",
    "Consider calling this function create_price_ratio.\n",
    "\n",
    "You'd want this function to:\n",
    "1. Take a filter of dfg, specifically where this filter constrains the London_Borough, as an argument. For example, one admissible argument should be: dfg[dfg['London_Borough']=='Camden'].\n",
    "2. Get the Average Price for that Borough, for the years 1998 and 2018.\n",
    "4. Calculate the ratio of the Average Price for 1998 divided by the Average Price for 2018.\n",
    "5. Return that ratio.\n",
    "\n",
    "Once you've written this function, you ultimately want to use it to iterate through all the unique London_Boroughs and work out the ratio capturing the difference of house prices between 1998 and 2018.\n",
    "\n",
    "Bear in mind: you don't have to write a function like this if you don't want to. If you can solve the brief otherwise, then great! \n",
    "\n",
    "***Hint***: This section should test the skills you acquired in:\n",
    "- Python Data Science Toolbox - Part One, all modules"
   ]
  },
  {
   "cell_type": "markdown",
   "metadata": {
    "colab": {},
    "colab_type": "code",
    "id": "cKTyr437UgDa"
   },
   "source": [
    "###### ** Modeling part 1 - Finding the top 15 boroughs with highest price ratios for 2022/2002 (last 20 years)"
   ]
  },
  {
   "cell_type": "code",
   "execution_count": null,
   "metadata": {},
   "outputs": [],
   "source": [
    "#function to calculate price ratio 2022/2002 (last 20 yrs)\n",
    "def create_price_ratio(d):\n",
    "    y2002 = float(d['Average_price'][d['Year']==2002])\n",
    "    y2022 = float(d['Average_price'][d['Year']==2022])\n",
    "    ratio = [y2022/y2002]\n",
    "    return ratio"
   ]
  },
  {
   "cell_type": "code",
   "execution_count": 29,
   "metadata": {},
   "outputs": [
    {
     "data": {
      "text/plain": [
       "[2.937748615003139]"
      ]
     },
     "execution_count": 29,
     "metadata": {},
     "output_type": "execute_result"
    }
   ],
   "source": [
    "create_price_ratio(dfg[dfg['London_Borough']=='Westminster'])"
   ]
  },
  {
   "cell_type": "code",
   "execution_count": 30,
   "metadata": {},
   "outputs": [
    {
     "name": "stdout",
     "output_type": "stream",
     "text": [
      "{'Barking & Dagenham': [3.0309173234971687], 'Barnet': [2.670286735670264], 'Bexley': [2.843857299897395], 'Brent': [2.83757348005952], 'Bromley': [2.6160713683056827], 'Camden': [2.754089168006298], 'City of London': [3.069900155129179], 'Croydon': [2.6294217553149344], 'Ealing': [2.6450268316131353], 'Enfield': [2.7626313217462677], 'Greenwich': [2.8710454338098796], 'Hackney': [3.440113503032716], 'Hammersmith & Fulham': [2.4971277215615983], 'Haringey': [3.0001568209644636], 'Harrow': [2.520661059839898], 'Havering': [2.791962382368768], 'Hillingdon': [2.6146889008635843], 'Hounslow': [2.4584900320919973], 'Islington': [2.8789400136869907], 'Kensington & Chelsea': [3.0551636399041797], 'Kingston upon Thames': [2.6124151368224244], 'Lambeth': [2.845756084058001], 'Lewisham': [3.0975929741919352], 'Merton': [2.8723151067943427], 'Newham': [2.9331358371510157], 'Redbridge': [2.7808769882592332], 'Richmond upon Thames': [2.7892492244705926], 'Southwark': [2.875624320835794], 'Sutton': [2.6208425266268174], 'Tower Hamlets': [2.51603070165531], 'Waltham Forest': [3.268784552212768], 'Wandsworth': [2.751290621960146], 'Westminster': [2.937748615003139]}\n"
     ]
    }
   ],
   "source": [
    "# Need to iterate through all boroughs\n",
    "# creating an empty dict to store ratios for each unique London_Borough.\n",
    "final_ratios = {}\n",
    "for b in dfg['London_Borough'].unique():\n",
    "    borough = dfg[dfg['London_Borough'] == b]\n",
    "    final_ratios[b] = create_price_ratio(borough)\n",
    "print(final_ratios) # final dictionary with 2002/2022 price ratios for all boroughs"
   ]
  },
  {
   "cell_type": "code",
   "execution_count": 31,
   "metadata": {},
   "outputs": [
    {
     "data": {
      "text/html": [
       "<div>\n",
       "<style scoped>\n",
       "    .dataframe tbody tr th:only-of-type {\n",
       "        vertical-align: middle;\n",
       "    }\n",
       "\n",
       "    .dataframe tbody tr th {\n",
       "        vertical-align: top;\n",
       "    }\n",
       "\n",
       "    .dataframe thead th {\n",
       "        text-align: right;\n",
       "    }\n",
       "</style>\n",
       "<table border=\"1\" class=\"dataframe\">\n",
       "  <thead>\n",
       "    <tr style=\"text-align: right;\">\n",
       "      <th></th>\n",
       "      <th>Barking &amp; Dagenham</th>\n",
       "      <th>Barnet</th>\n",
       "      <th>Bexley</th>\n",
       "      <th>Brent</th>\n",
       "      <th>Bromley</th>\n",
       "      <th>Camden</th>\n",
       "      <th>City of London</th>\n",
       "      <th>Croydon</th>\n",
       "      <th>Ealing</th>\n",
       "      <th>Enfield</th>\n",
       "      <th>...</th>\n",
       "      <th>Merton</th>\n",
       "      <th>Newham</th>\n",
       "      <th>Redbridge</th>\n",
       "      <th>Richmond upon Thames</th>\n",
       "      <th>Southwark</th>\n",
       "      <th>Sutton</th>\n",
       "      <th>Tower Hamlets</th>\n",
       "      <th>Waltham Forest</th>\n",
       "      <th>Wandsworth</th>\n",
       "      <th>Westminster</th>\n",
       "    </tr>\n",
       "  </thead>\n",
       "  <tbody>\n",
       "    <tr>\n",
       "      <th>0</th>\n",
       "      <td>3.030917</td>\n",
       "      <td>2.670287</td>\n",
       "      <td>2.843857</td>\n",
       "      <td>2.837573</td>\n",
       "      <td>2.616071</td>\n",
       "      <td>2.754089</td>\n",
       "      <td>3.0699</td>\n",
       "      <td>2.629422</td>\n",
       "      <td>2.645027</td>\n",
       "      <td>2.762631</td>\n",
       "      <td>...</td>\n",
       "      <td>2.872315</td>\n",
       "      <td>2.933136</td>\n",
       "      <td>2.780877</td>\n",
       "      <td>2.789249</td>\n",
       "      <td>2.875624</td>\n",
       "      <td>2.620843</td>\n",
       "      <td>2.516031</td>\n",
       "      <td>3.268785</td>\n",
       "      <td>2.751291</td>\n",
       "      <td>2.937749</td>\n",
       "    </tr>\n",
       "  </tbody>\n",
       "</table>\n",
       "<p>1 rows × 33 columns</p>\n",
       "</div>"
      ],
      "text/plain": [
       "   Barking & Dagenham    Barnet    Bexley     Brent   Bromley    Camden  \\\n",
       "0            3.030917  2.670287  2.843857  2.837573  2.616071  2.754089   \n",
       "\n",
       "   City of London   Croydon    Ealing   Enfield  ...    Merton    Newham  \\\n",
       "0          3.0699  2.629422  2.645027  2.762631  ...  2.872315  2.933136   \n",
       "\n",
       "   Redbridge  Richmond upon Thames  Southwark    Sutton  Tower Hamlets  \\\n",
       "0   2.780877              2.789249   2.875624  2.620843       2.516031   \n",
       "\n",
       "   Waltham Forest  Wandsworth  Westminster  \n",
       "0        3.268785    2.751291     2.937749  \n",
       "\n",
       "[1 rows x 33 columns]"
      ]
     },
     "execution_count": 31,
     "metadata": {},
     "output_type": "execute_result"
    }
   ],
   "source": [
    "# converting the final dictionary into a dataframe\n",
    "df_ratios = pd.DataFrame(final_ratios)\n",
    "df_ratios.head() # too many columns-one row, need to transpose"
   ]
  },
  {
   "cell_type": "code",
   "execution_count": 32,
   "metadata": {},
   "outputs": [
    {
     "data": {
      "text/html": [
       "<div>\n",
       "<style scoped>\n",
       "    .dataframe tbody tr th:only-of-type {\n",
       "        vertical-align: middle;\n",
       "    }\n",
       "\n",
       "    .dataframe tbody tr th {\n",
       "        vertical-align: top;\n",
       "    }\n",
       "\n",
       "    .dataframe thead th {\n",
       "        text-align: right;\n",
       "    }\n",
       "</style>\n",
       "<table border=\"1\" class=\"dataframe\">\n",
       "  <thead>\n",
       "    <tr style=\"text-align: right;\">\n",
       "      <th></th>\n",
       "      <th>index</th>\n",
       "      <th>0</th>\n",
       "    </tr>\n",
       "  </thead>\n",
       "  <tbody>\n",
       "    <tr>\n",
       "      <th>0</th>\n",
       "      <td>Barking &amp; Dagenham</td>\n",
       "      <td>3.030917</td>\n",
       "    </tr>\n",
       "    <tr>\n",
       "      <th>1</th>\n",
       "      <td>Barnet</td>\n",
       "      <td>2.670287</td>\n",
       "    </tr>\n",
       "    <tr>\n",
       "      <th>2</th>\n",
       "      <td>Bexley</td>\n",
       "      <td>2.843857</td>\n",
       "    </tr>\n",
       "    <tr>\n",
       "      <th>3</th>\n",
       "      <td>Brent</td>\n",
       "      <td>2.837573</td>\n",
       "    </tr>\n",
       "    <tr>\n",
       "      <th>4</th>\n",
       "      <td>Bromley</td>\n",
       "      <td>2.616071</td>\n",
       "    </tr>\n",
       "  </tbody>\n",
       "</table>\n",
       "</div>"
      ],
      "text/plain": [
       "                index         0\n",
       "0  Barking & Dagenham  3.030917\n",
       "1              Barnet  2.670287\n",
       "2              Bexley  2.843857\n",
       "3               Brent  2.837573\n",
       "4             Bromley  2.616071"
      ]
     },
     "execution_count": 32,
     "metadata": {},
     "output_type": "execute_result"
    }
   ],
   "source": [
    "df_ratios = df_ratios.T\n",
    "df_ratios = df_ratios.reset_index()\n",
    "df_ratios.head()  # need to rename columns"
   ]
  },
  {
   "cell_type": "code",
   "execution_count": 33,
   "metadata": {},
   "outputs": [
    {
     "data": {
      "text/html": [
       "<div>\n",
       "<style scoped>\n",
       "    .dataframe tbody tr th:only-of-type {\n",
       "        vertical-align: middle;\n",
       "    }\n",
       "\n",
       "    .dataframe tbody tr th {\n",
       "        vertical-align: top;\n",
       "    }\n",
       "\n",
       "    .dataframe thead th {\n",
       "        text-align: right;\n",
       "    }\n",
       "</style>\n",
       "<table border=\"1\" class=\"dataframe\">\n",
       "  <thead>\n",
       "    <tr style=\"text-align: right;\">\n",
       "      <th></th>\n",
       "      <th>Borough</th>\n",
       "      <th>Price_ratio_2022/2002</th>\n",
       "    </tr>\n",
       "  </thead>\n",
       "  <tbody>\n",
       "    <tr>\n",
       "      <th>0</th>\n",
       "      <td>Barking &amp; Dagenham</td>\n",
       "      <td>3.030917</td>\n",
       "    </tr>\n",
       "    <tr>\n",
       "      <th>1</th>\n",
       "      <td>Barnet</td>\n",
       "      <td>2.670287</td>\n",
       "    </tr>\n",
       "    <tr>\n",
       "      <th>2</th>\n",
       "      <td>Bexley</td>\n",
       "      <td>2.843857</td>\n",
       "    </tr>\n",
       "    <tr>\n",
       "      <th>3</th>\n",
       "      <td>Brent</td>\n",
       "      <td>2.837573</td>\n",
       "    </tr>\n",
       "    <tr>\n",
       "      <th>4</th>\n",
       "      <td>Bromley</td>\n",
       "      <td>2.616071</td>\n",
       "    </tr>\n",
       "  </tbody>\n",
       "</table>\n",
       "</div>"
      ],
      "text/plain": [
       "              Borough  Price_ratio_2022/2002\n",
       "0  Barking & Dagenham               3.030917\n",
       "1              Barnet               2.670287\n",
       "2              Bexley               2.843857\n",
       "3               Brent               2.837573\n",
       "4             Bromley               2.616071"
      ]
     },
     "execution_count": 33,
     "metadata": {},
     "output_type": "execute_result"
    }
   ],
   "source": [
    "df_ratios = df_ratios.rename(columns={'index':'Borough', 0:'Price_ratio_2022/2002'})\n",
    "df_ratios.head()"
   ]
  },
  {
   "cell_type": "code",
   "execution_count": 34,
   "metadata": {},
   "outputs": [
    {
     "name": "stdout",
     "output_type": "stream",
     "text": [
      "                 Borough  Price_ratio_2022/2002\n",
      "11               Hackney               3.440114\n",
      "30        Waltham Forest               3.268785\n",
      "22              Lewisham               3.097593\n",
      "6         City of London               3.069900\n",
      "19  Kensington & Chelsea               3.055164\n",
      "0     Barking & Dagenham               3.030917\n",
      "13              Haringey               3.000157\n",
      "32           Westminster               2.937749\n",
      "24                Newham               2.933136\n",
      "18             Islington               2.878940\n",
      "27             Southwark               2.875624\n",
      "23                Merton               2.872315\n",
      "10             Greenwich               2.871045\n",
      "21               Lambeth               2.845756\n",
      "2                 Bexley               2.843857\n"
     ]
    }
   ],
   "source": [
    "top15_r = df_ratios.sort_values(by='Price_ratio_2022/2002',ascending=False).head(15)\n",
    "print(top15_r)"
   ]
  },
  {
   "cell_type": "code",
   "execution_count": 87,
   "metadata": {},
   "outputs": [
    {
     "data": {
      "text/plain": [
       "[Text(0, 0, 'Hackney'),\n",
       " Text(1, 0, 'Waltham Forest'),\n",
       " Text(2, 0, 'Lewisham'),\n",
       " Text(3, 0, 'City of London'),\n",
       " Text(4, 0, 'Kensington & Chelsea'),\n",
       " Text(5, 0, 'Barking & Dagenham'),\n",
       " Text(6, 0, 'Haringey'),\n",
       " Text(7, 0, 'Westminster'),\n",
       " Text(8, 0, 'Newham'),\n",
       " Text(9, 0, 'Islington'),\n",
       " Text(10, 0, 'Southwark'),\n",
       " Text(11, 0, 'Merton'),\n",
       " Text(12, 0, 'Greenwich'),\n",
       " Text(13, 0, 'Lambeth'),\n",
       " Text(14, 0, 'Bexley')]"
      ]
     },
     "execution_count": 87,
     "metadata": {},
     "output_type": "execute_result"
    },
    {
     "data": {
      "image/png": "[encoded data removed]",
      "text/plain": [
       "<Figure size 432x288 with 1 Axes>"
      ]
     },
     "metadata": {
      "needs_background": "light"
     },
     "output_type": "display_data"
    }
   ],
   "source": [
    "bar_plot1 = top15_r[['Borough','Price_ratio_2022/2002']].plot(kind='bar', title='Bar Plot 1: 15 Boroughs with the highest ratio of prices for 2022/2002')\n",
    "bar_plot1.set_ylabel('2022/2002 Price Ratio')\n",
    "bar_plot1.set_xticklabels(top15_r.Borough)"
   ]
  },
  {
   "cell_type": "markdown",
   "metadata": {},
   "source": [
    "###### ** Modeling part 2 - Finding the percent change in price for the last 20 years in the boroughs that had the highest 2022/2002 ratios"
   ]
  },
  {
   "cell_type": "code",
   "execution_count": 37,
   "metadata": {},
   "outputs": [],
   "source": [
    "# creating a separate dataframe with top15 boroughs\n",
    "top15_df = dfg[(dfg['Year'] >= 2002) & (dfg['London_Borough'].isin(top15_r['Borough']))] "
   ]
  },
  {
   "cell_type": "code",
   "execution_count": 67,
   "metadata": {},
   "outputs": [
    {
     "name": "stdout",
     "output_type": "stream",
     "text": [
      "{'Barking & Dagenham': 203.09173234971692, 'Bexley': 184.38572998973953, 'City of London': 206.99001551291784, 'Greenwich': 187.10454338098793, 'Hackney': 244.01135030327163, 'Haringey': 200.01568209644637, 'Islington': 187.89400136869904, 'Kensington & Chelsea': 205.51636399041797, 'Lambeth': 184.57560840580012, 'Lewisham': 209.75929741919353, 'Merton': 187.2315106794343, 'Newham': 193.31358371510154, 'Southwark': 187.56243208357938, 'Waltham Forest': 226.8784552212768, 'Westminster': 193.77486150031393}\n"
     ]
    }
   ],
   "source": [
    "#function to calculate percent change in price between 2022 and 2002  for top15 boroughs)\n",
    "\n",
    "def create_pdiff(d):\n",
    "    y2002 = float(d['Average_price'][d['Year']==2002])\n",
    "    y2022 = float(d['Average_price'][d['Year']==2022])\n",
    "    pdiff = ((y2022-y2002)/ y2002)*100\n",
    "    return pdiff\n",
    "\n",
    "final_pdiff = {}\n",
    "for b in top15_df['London_Borough'].unique():\n",
    "    borough = top15_df[top15_df['London_Borough'] == b]\n",
    "    final_pdiff[b] = create_pdiff(borough)\n",
    "print(final_pdiff) # final dictionary with percent changes in avg price for top15 boroughs"
   ]
  },
  {
   "cell_type": "code",
   "execution_count": 78,
   "metadata": {},
   "outputs": [
    {
     "data": {
      "text/html": [
       "<div>\n",
       "<style scoped>\n",
       "    .dataframe tbody tr th:only-of-type {\n",
       "        vertical-align: middle;\n",
       "    }\n",
       "\n",
       "    .dataframe tbody tr th {\n",
       "        vertical-align: top;\n",
       "    }\n",
       "\n",
       "    .dataframe thead th {\n",
       "        text-align: right;\n",
       "    }\n",
       "</style>\n",
       "<table border=\"1\" class=\"dataframe\">\n",
       "  <thead>\n",
       "    <tr style=\"text-align: right;\">\n",
       "      <th></th>\n",
       "      <th>Borough</th>\n",
       "      <th>Percent Change 2002-2022</th>\n",
       "    </tr>\n",
       "  </thead>\n",
       "  <tbody>\n",
       "    <tr>\n",
       "      <th>4</th>\n",
       "      <td>Hackney</td>\n",
       "      <td>244.011350</td>\n",
       "    </tr>\n",
       "    <tr>\n",
       "      <th>13</th>\n",
       "      <td>Waltham Forest</td>\n",
       "      <td>226.878455</td>\n",
       "    </tr>\n",
       "    <tr>\n",
       "      <th>9</th>\n",
       "      <td>Lewisham</td>\n",
       "      <td>209.759297</td>\n",
       "    </tr>\n",
       "    <tr>\n",
       "      <th>2</th>\n",
       "      <td>City of London</td>\n",
       "      <td>206.990016</td>\n",
       "    </tr>\n",
       "    <tr>\n",
       "      <th>7</th>\n",
       "      <td>Kensington &amp; Chelsea</td>\n",
       "      <td>205.516364</td>\n",
       "    </tr>\n",
       "    <tr>\n",
       "      <th>0</th>\n",
       "      <td>Barking &amp; Dagenham</td>\n",
       "      <td>203.091732</td>\n",
       "    </tr>\n",
       "    <tr>\n",
       "      <th>5</th>\n",
       "      <td>Haringey</td>\n",
       "      <td>200.015682</td>\n",
       "    </tr>\n",
       "    <tr>\n",
       "      <th>14</th>\n",
       "      <td>Westminster</td>\n",
       "      <td>193.774862</td>\n",
       "    </tr>\n",
       "    <tr>\n",
       "      <th>11</th>\n",
       "      <td>Newham</td>\n",
       "      <td>193.313584</td>\n",
       "    </tr>\n",
       "    <tr>\n",
       "      <th>6</th>\n",
       "      <td>Islington</td>\n",
       "      <td>187.894001</td>\n",
       "    </tr>\n",
       "    <tr>\n",
       "      <th>12</th>\n",
       "      <td>Southwark</td>\n",
       "      <td>187.562432</td>\n",
       "    </tr>\n",
       "    <tr>\n",
       "      <th>10</th>\n",
       "      <td>Merton</td>\n",
       "      <td>187.231511</td>\n",
       "    </tr>\n",
       "    <tr>\n",
       "      <th>3</th>\n",
       "      <td>Greenwich</td>\n",
       "      <td>187.104543</td>\n",
       "    </tr>\n",
       "    <tr>\n",
       "      <th>8</th>\n",
       "      <td>Lambeth</td>\n",
       "      <td>184.575608</td>\n",
       "    </tr>\n",
       "    <tr>\n",
       "      <th>1</th>\n",
       "      <td>Bexley</td>\n",
       "      <td>184.385730</td>\n",
       "    </tr>\n",
       "  </tbody>\n",
       "</table>\n",
       "</div>"
      ],
      "text/plain": [
       "                 Borough  Percent Change 2002-2022\n",
       "4                Hackney                244.011350\n",
       "13        Waltham Forest                226.878455\n",
       "9               Lewisham                209.759297\n",
       "2         City of London                206.990016\n",
       "7   Kensington & Chelsea                205.516364\n",
       "0     Barking & Dagenham                203.091732\n",
       "5               Haringey                200.015682\n",
       "14           Westminster                193.774862\n",
       "11                Newham                193.313584\n",
       "6              Islington                187.894001\n",
       "12             Southwark                187.562432\n",
       "10                Merton                187.231511\n",
       "3              Greenwich                187.104543\n",
       "8                Lambeth                184.575608\n",
       "1                 Bexley                184.385730"
      ]
     },
     "execution_count": 78,
     "metadata": {},
     "output_type": "execute_result"
    }
   ],
   "source": [
    "df_pdiff = pd.DataFrame([final_pdiff]).T.reset_index()\n",
    "df_pdiff = df_pdiff.rename(columns={'index':'Borough', 0:'Percent Change 2002-2022'})\n",
    "df_pdiff = df_pdiff.sort_values(by='Percent Change 2002-2022',ascending=False)\n",
    "df_pdiff"
   ]
  },
  {
   "cell_type": "code",
   "execution_count": 89,
   "metadata": {},
   "outputs": [
    {
     "data": {
      "text/plain": [
       "[Text(0, 0, 'Hackney'),\n",
       " Text(1, 0, 'Waltham Forest'),\n",
       " Text(2, 0, 'Lewisham'),\n",
       " Text(3, 0, 'City of London'),\n",
       " Text(4, 0, 'Kensington & Chelsea'),\n",
       " Text(5, 0, 'Barking & Dagenham'),\n",
       " Text(6, 0, 'Haringey'),\n",
       " Text(7, 0, 'Westminster'),\n",
       " Text(8, 0, 'Newham'),\n",
       " Text(9, 0, 'Islington'),\n",
       " Text(10, 0, 'Southwark'),\n",
       " Text(11, 0, 'Merton'),\n",
       " Text(12, 0, 'Greenwich'),\n",
       " Text(13, 0, 'Lambeth'),\n",
       " Text(14, 0, 'Bexley')]"
      ]
     },
     "execution_count": 89,
     "metadata": {},
     "output_type": "execute_result"
    },
    {
     "data": {
      "image/png": "[encoded data removed]",
      "text/plain": [
       "<Figure size 432x288 with 1 Axes>"
      ]
     },
     "metadata": {
      "needs_background": "light"
     },
     "output_type": "display_data"
    }
   ],
   "source": [
    "bar_plot2 = df_pdiff[['Borough','Percent Change 2002-2022']].plot(kind='bar', title='Bar Plot 2: Percent Change in Average Housing Price')\n",
    "bar_plot2.set_ylabel('% Change in Price')\n",
    "bar_plot2.set_xticklabels(df_pdiff.Borough)"
   ]
  },
  {
   "cell_type": "markdown",
   "metadata": {},
   "source": [
    "###### ** Modeling Part 3 - Getting the Pound Sterling values for the price increase in the last 20 yrs"
   ]
  },
  {
   "cell_type": "code",
   "execution_count": 64,
   "metadata": {},
   "outputs": [],
   "source": [
    "#function to calculate price difference values between 2022 and 2002)\n",
    "def create_diff(d):\n",
    "    y2002 = float(d['Average_price'][d['Year']==2002])\n",
    "    y2022 = float(d['Average_price'][d['Year']==2022])\n",
    "    diff = y2022-y2002\n",
    "    return diff\n",
    "\n",
    "final_diff = {}\n",
    "for b in top15_df['London_Borough'].unique():\n",
    "    borough = top15_df[top15_df['London_Borough'] == b]\n",
    "    final_diff[b] = create_diff(borough)\n",
    "print(final_diff) # final dictionary with percent changes in avg price for top15 boroughs"
   ]
  },
  {
   "cell_type": "code",
   "execution_count": 80,
   "metadata": {},
   "outputs": [
    {
     "data": {
      "text/html": [
       "<div>\n",
       "<style scoped>\n",
       "    .dataframe tbody tr th:only-of-type {\n",
       "        vertical-align: middle;\n",
       "    }\n",
       "\n",
       "    .dataframe tbody tr th {\n",
       "        vertical-align: top;\n",
       "    }\n",
       "\n",
       "    .dataframe thead th {\n",
       "        text-align: right;\n",
       "    }\n",
       "</style>\n",
       "<table border=\"1\" class=\"dataframe\">\n",
       "  <thead>\n",
       "    <tr style=\"text-align: right;\">\n",
       "      <th></th>\n",
       "      <th>Borough</th>\n",
       "      <th>Price Change 2002-2022</th>\n",
       "    </tr>\n",
       "  </thead>\n",
       "  <tbody>\n",
       "    <tr>\n",
       "      <th>7</th>\n",
       "      <td>Kensington &amp; Chelsea</td>\n",
       "      <td>946161.272683</td>\n",
       "    </tr>\n",
       "    <tr>\n",
       "      <th>14</th>\n",
       "      <td>Westminster</td>\n",
       "      <td>658102.818333</td>\n",
       "    </tr>\n",
       "    <tr>\n",
       "      <th>2</th>\n",
       "      <td>City of London</td>\n",
       "      <td>558111.822200</td>\n",
       "    </tr>\n",
       "    <tr>\n",
       "      <th>6</th>\n",
       "      <td>Islington</td>\n",
       "      <td>465528.461658</td>\n",
       "    </tr>\n",
       "    <tr>\n",
       "      <th>4</th>\n",
       "      <td>Hackney</td>\n",
       "      <td>439877.934583</td>\n",
       "    </tr>\n",
       "    <tr>\n",
       "      <th>5</th>\n",
       "      <td>Haringey</td>\n",
       "      <td>391633.215925</td>\n",
       "    </tr>\n",
       "    <tr>\n",
       "      <th>10</th>\n",
       "      <td>Merton</td>\n",
       "      <td>366439.575233</td>\n",
       "    </tr>\n",
       "    <tr>\n",
       "      <th>8</th>\n",
       "      <td>Lambeth</td>\n",
       "      <td>351526.143400</td>\n",
       "    </tr>\n",
       "    <tr>\n",
       "      <th>12</th>\n",
       "      <td>Southwark</td>\n",
       "      <td>346398.185525</td>\n",
       "    </tr>\n",
       "    <tr>\n",
       "      <th>13</th>\n",
       "      <td>Waltham Forest</td>\n",
       "      <td>336092.035208</td>\n",
       "    </tr>\n",
       "    <tr>\n",
       "      <th>9</th>\n",
       "      <td>Lewisham</td>\n",
       "      <td>301558.418850</td>\n",
       "    </tr>\n",
       "    <tr>\n",
       "      <th>3</th>\n",
       "      <td>Greenwich</td>\n",
       "      <td>275832.338017</td>\n",
       "    </tr>\n",
       "    <tr>\n",
       "      <th>11</th>\n",
       "      <td>Newham</td>\n",
       "      <td>265720.415825</td>\n",
       "    </tr>\n",
       "    <tr>\n",
       "      <th>1</th>\n",
       "      <td>Bexley</td>\n",
       "      <td>252235.925408</td>\n",
       "    </tr>\n",
       "    <tr>\n",
       "      <th>0</th>\n",
       "      <td>Barking &amp; Dagenham</td>\n",
       "      <td>227913.426135</td>\n",
       "    </tr>\n",
       "  </tbody>\n",
       "</table>\n",
       "</div>"
      ],
      "text/plain": [
       "                 Borough  Price Change 2002-2022\n",
       "7   Kensington & Chelsea           946161.272683\n",
       "14           Westminster           658102.818333\n",
       "2         City of London           558111.822200\n",
       "6              Islington           465528.461658\n",
       "4                Hackney           439877.934583\n",
       "5               Haringey           391633.215925\n",
       "10                Merton           366439.575233\n",
       "8                Lambeth           351526.143400\n",
       "12             Southwark           346398.185525\n",
       "13        Waltham Forest           336092.035208\n",
       "9               Lewisham           301558.418850\n",
       "3              Greenwich           275832.338017\n",
       "11                Newham           265720.415825\n",
       "1                 Bexley           252235.925408\n",
       "0     Barking & Dagenham           227913.426135"
      ]
     },
     "execution_count": 80,
     "metadata": {},
     "output_type": "execute_result"
    }
   ],
   "source": [
    "df_diff = pd.DataFrame([final_diff]).T.reset_index()\n",
    "df_diff = df_diff.rename(columns={'index':'Borough', 0:'Price Change 2002-2022'})\n",
    "df_diff = df_diff.sort_values(by='Price Change 2002-2022',ascending=False)\n",
    "df_diff"
   ]
  },
  {
   "cell_type": "code",
   "execution_count": 90,
   "metadata": {},
   "outputs": [
    {
     "data": {
      "text/plain": [
       "[Text(0, 0, 'Kensington & Chelsea'),\n",
       " Text(1, 0, 'Westminster'),\n",
       " Text(2, 0, 'City of London'),\n",
       " Text(3, 0, 'Islington'),\n",
       " Text(4, 0, 'Hackney'),\n",
       " Text(5, 0, 'Haringey'),\n",
       " Text(6, 0, 'Merton'),\n",
       " Text(7, 0, 'Lambeth'),\n",
       " Text(8, 0, 'Southwark'),\n",
       " Text(9, 0, 'Waltham Forest'),\n",
       " Text(10, 0, 'Lewisham'),\n",
       " Text(11, 0, 'Greenwich'),\n",
       " Text(12, 0, 'Newham'),\n",
       " Text(13, 0, 'Bexley'),\n",
       " Text(14, 0, 'Barking & Dagenham')]"
      ]
     },
     "execution_count": 90,
     "metadata": {},
     "output_type": "execute_result"
    },
    {
     "data": {
      "image/png": "[encoded data removed]",
      "text/plain": [
       "<Figure size 432x288 with 1 Axes>"
      ]
     },
     "metadata": {
      "needs_background": "light"
     },
     "output_type": "display_data"
    }
   ],
   "source": [
    "bar_plot3 = df_diff[['Borough','Price Change 2002-2022']].plot(kind='bar', title='Price Differences between 2022 and 2002 ')\n",
    "bar_plot3.set_ylabel('Price Difference (Pound Sterling)')\n",
    "bar_plot3.set_xticklabels(df_diff.Borough)"
   ]
  },
  {
   "cell_type": "markdown",
   "metadata": {
    "colab_type": "text",
    "id": "NzYUI7FxJpgv"
   },
   "source": [
    "### 4. Conclusion\n",
    "What can you conclude? Type out your conclusion below. \n",
    "\n",
    "Look back at your notebook. Think about how you might summarize what you have done, and prepare a quick presentation on it to your mentor at your next meeting. \n",
    "\n",
    "We hope you enjoyed this practical project. It should have consolidated your data hygiene and pandas skills by looking at a real-world problem involving just the kind of dataset you might encounter as a budding data scientist. Congratulations, and looking forward to seeing you at the next step in the course! "
   ]
  },
  {
   "cell_type": "markdown",
   "metadata": {},
   "source": [
    "DATA ANALYSIS SUMMARY: \n",
    "Loaded the data from the official UK government house price index dataset URL and cleaned it into a tidy dataframe for use in analysing change in housing prices in the last 20 years across 32 London Boroughs. Cleaning steps are marked with a '*' above, and were performed using pandas data manipulation techniques. First, I transposed the initial dataframe with all the boroughs in separate columns to get the boroughs in a single column and match them with their corresponding date and price values. I then eliminated the non-boroughs and unnamed entries from the boroughs column and checked for NAs, making sure all columns had matching entries. After confriming all the columns had workable data types, I extracted the year from the date column to get yearly average for housing prices per borough. For visualization I used two boroughs to get a sense of the trend and saw that the last 20 years shows a higher rate (slope) of increase.\n",
    "\n",
    "The business question I had in mind was which boroughs would have been a good investment for a real estate investor. For this I first identified the 15 boroughs that had the highest ratios of 2022/2002 prices, then I derived the percent increase in price for these boroughs and the pound sterling (GBP) amount of increase in the last 20 years.\n",
    "\n",
    "CONCLUSION: \n",
    "As of 2022, Hackney had the highest percent change in average housing value with a 244% increase compared to 2002, which is around 440K GBP.\n",
    "\n",
    "7 other boroughs tripled in value, or in other words had over 200% increase: Waltham Forest, Lewisham, City of London, Kensington & Chelsea, Barking & Dagenham and Haringey.\n",
    "\n",
    "Kensington and Chelsea stands out as high value area that had the highest GBP increase in 20 years, with 946K GBP increase and 204% percent increase.\n",
    "\n",
    "In conclusion, for a mid-low starting investment Hackney would have been the best choice for profit, whereas\n",
    " for a high value starting investment Kensington and Chelsea would have been the best choice.\n"
   ]
  },
  {
   "cell_type": "code",
   "execution_count": null,
   "metadata": {},
   "outputs": [],
   "source": []
  }
 ],
 "metadata": {
  "colab": {
   "collapsed_sections": [],
   "name": "Springboard Data Science Career Track Unit 4 Challenge - Tier 3 Complete .ipynb",
   "provenance": []
  },
  "kernelspec": {
   "display_name": "Python 3",
   "language": "python",
   "name": "python3"
  },
  "language_info": {
   "codemirror_mode": {
    "name": "ipython",
    "version": 3
   },
   "file_extension": ".py",
   "mimetype": "text/x-python",
   "name": "python",
   "nbconvert_exporter": "python",
   "pygments_lexer": "ipython3",
   "version": "3.8.5"
  }
 },
 "nbformat": 4,
 "nbformat_minor": 1
}
